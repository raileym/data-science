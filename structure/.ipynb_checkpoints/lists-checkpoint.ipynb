{
 "cells": [
  {
   "cell_type": "raw",
   "metadata": {},
   "source": [
    "<script>\n",
    "  function code_toggle() {\n",
    "    if (code_shown){\n",
    "      $('div.input').hide('500');\n",
    "      $('#toggleButton').val('Show Code')\n",
    "    } else {\n",
    "      $('div.input').show('500');\n",
    "      $('#toggleButton').val('Hide Code')\n",
    "    }\n",
    "    code_shown = !code_shown\n",
    "  }\n",
    "\n",
    "  $( document ).ready(function(){\n",
    "    code_shown=false;\n",
    "    $('div.input').hide()\n",
    "  });\n",
    "</script>\n",
    "<form action=\"javascript:code_toggle()\"><input type=\"submit\" id=\"toggleButton\" value=\"Show Code\"></form>"
   ]
  },
  {
   "cell_type": "code",
   "execution_count": 1,
   "metadata": {},
   "outputs": [],
   "source": [
    "from IPython.display import Markdown\n",
    "import numpy as np\n",
    "import pandas as pd"
   ]
  },
  {
   "cell_type": "code",
   "execution_count": 2,
   "metadata": {},
   "outputs": [
    {
     "data": {
      "text/markdown": [
       "\n",
       "## This does not work a = 1.234.\n"
      ],
      "text/plain": [
       "<IPython.core.display.Markdown object>"
      ]
     },
     "execution_count": 2,
     "metadata": {},
     "output_type": "execute_result"
    }
   ],
   "source": [
    "Markdown(\"\"\"\n",
    "## This does not work a = {a}.\n",
    "\"\"\".format(a=1.234))"
   ]
  },
  {
   "cell_type": "code",
   "execution_count": 13,
   "metadata": {},
   "outputs": [],
   "source": [
    "a=4.5"
   ]
  },
  {
   "cell_type": "markdown",
   "metadata": {},
   "source": [
    "a = {{a}}"
   ]
  },
  {
   "cell_type": "markdown",
   "metadata": {},
   "source": [
    "## $a^2 = \\frac{2-x}{x+3}$"
   ]
  },
  {
   "cell_type": "markdown",
   "metadata": {},
   "source": [
    "## List"
   ]
  },
  {
   "cell_type": "markdown",
   "metadata": {},
   "source": [
    "A Python list ... ['a', 'b', 'c'] ... is an **ordered-collection** of **arbitrary objects**. \n",
    "\n",
    "A Python list is an **ordered** and **mutable** Python container.\n",
    "\n",
    "- **ordered**: ['a','b'] is not ['b','a']\n",
    "- **indexed**: accessible by index\n",
    "- **not unique**: ['a', 'a', 'a', 'b', 'b']\n",
    "- **iterable**: for n in [1, 2, 3, 4, 5, 6]:\n",
    "- **dynamic**: append, delete, insert, pop, remove, slice, sort, reverse, concatenate, extend\n",
    "- **mutable**: cannot be used as a key\n",
    "- **arbitrary**: [1, 'A', False]\n",
    "- **nestable**: [1, 2, 3, [a, b, c], 4]\n",
    "\n",
    "The list is the work-horse of Python.\n",
    "\n",
    "References\n",
    "- https://towardsdatascience.com/15-things-you-should-know-about-lists-in-python-c566792eca98\n",
    "- https://www.datacamp.com/community/tutorials/18-most-common-python-list-questions-learn-python"
   ]
  },
  {
   "cell_type": "code",
   "execution_count": 4,
   "metadata": {},
   "outputs": [],
   "source": [
    "# Initialize an empty list with two brackets.\n",
    "\n",
    "empty=[]\n",
    "\n",
    "# Initialize an empty list with the invocation list()\n",
    "\n",
    "empty = list()\n"
   ]
  },
  {
   "cell_type": "code",
   "execution_count": 5,
   "metadata": {},
   "outputs": [],
   "source": [
    "# Initialize a list of items as an ordered list of the same object type.\n",
    "\n",
    "my_list = ['a', 'b', 'c']\n",
    "\n",
    "# Initialize a list of items as an ordered list of disparate object types.\n",
    "\n",
    "my_list_2 = ['a', 2, 3.2, my_list, False]\n",
    "\n",
    "# Duplicates in a list are not a problem.\n",
    "\n",
    "my_list = ['a', 'a', 'a', 'b', 'b']\n",
    "\n",
    "# Nested lists are not a problem either.\n",
    "\n",
    "my_list = ['a', 'b', 'c', [1, 2, 3], 'd']\n"
   ]
  },
  {
   "cell_type": "code",
   "execution_count": 23,
   "metadata": {},
   "outputs": [],
   "source": [
    "mydict = list( {'a':'1','b':'2'} )"
   ]
  },
  {
   "cell_type": "code",
   "execution_count": 35,
   "metadata": {},
   "outputs": [
    {
     "data": {
      "text/markdown": [
       "\n",
       "\n",
       "**a TUPLE**\n",
       "\n",
       "list( ('one','more','thing') ),\n",
       "\n",
       "['one', 'more', 'thing']\n",
       "\n",
       "\n"
      ],
      "text/plain": [
       "<IPython.core.display.Markdown object>"
      ]
     },
     "execution_count": 35,
     "metadata": {},
     "output_type": "execute_result"
    }
   ],
   "source": [
    "Markdown(\"\"\"\n",
    "\n",
    "**a STRING**\\n\n",
    "list('malcolm')\\n\n",
    "{result}\\n\n",
    "\n",
    "\"\"\".format(result = list('malcolm')))\n",
    "\n",
    "Markdown(\"\"\"\n",
    "\n",
    "**a TUPLE**\\n\n",
    "list( ('one','more','thing') ),\\n\n",
    "{result}\\n\n",
    "\n",
    "\"\"\".format(result = list( ('one','more','thing') )))\n",
    "\n",
    "#result = list( (2, 3, 4) ) #{'a':'1', 'b':'2', 'c':'3'} )\n",
    "\n",
    "#Markdown(\"\"\"\n",
    "\n",
    "#**a DICTIONARY**\n",
    "#list( {'a':'1', 'b':'2', 'c':'3'} )\n",
    "#{result}\n",
    "\n",
    "#\"\"\".format(result))\n",
    "\n",
    "#Markdown(\"\"\"\n",
    "\n",
    "#**a DICTIONARY**\n",
    "#list( {'a':'1', 'b':'2', 'c':'3'} )\n",
    "#{result}\n",
    "\n",
    "#\"\"\")#.format(result))\n",
    "\n",
    "#Markdown(\"\"\"\n",
    "\n",
    "#**a SET**\n",
    "#list( {'x', 'y', 'z'} )\n",
    "#{result}\\n\n",
    "\n",
    "#\"\"\".format(result = list( {'x', 'y', 'z'} )))\n",
    "\n"
   ]
  },
  {
   "cell_type": "code",
   "execution_count": null,
   "metadata": {},
   "outputs": [],
   "source": [
    "Markdown(\"\"\"\n",
    "\n",
    "**a STRING**\\n\n",
    "list('malcolm')\\n\n",
    "{result}\\n\n",
    "\n",
    "\"\"\".format(result = list('malcolm')))\n",
    "\n",
    "Markdown(\"\"\"\n",
    "\n",
    "**a TUPLE**\\n\n",
    "list( ('one','more','thing') ),\\n\n",
    "{result}\\n\n",
    "\n",
    "\"\"\".format(result = list( ('one','more','thing') )))\n",
    "\n",
    "#result = list( (2, 3, 4) ) #{'a':'1', 'b':'2', 'c':'3'} )\n",
    "\n",
    "#Markdown(\"\"\"\n",
    "\n",
    "#**a DICTIONARY**\n",
    "#list( {'a':'1', 'b':'2', 'c':'3'} )\n",
    "#{result}\n",
    "\n",
    "#\"\"\".format(result))\n",
    "\n",
    "#Markdown(\"\"\"\n",
    "\n",
    "#**a DICTIONARY**\n",
    "#list( {'a':'1', 'b':'2', 'c':'3'} )\n",
    "#{result}\n",
    "\n",
    "#\"\"\")#.format(result))\n",
    "\n",
    "#Markdown(\"\"\"\n",
    "\n",
    "#**a SET**\n",
    "#list( {'x', 'y', 'z'} )\n",
    "#{result}\\n\n",
    "\n",
    "#\"\"\".format(result = list( {'x', 'y', 'z'} )))\n",
    "\n"
   ]
  },
  {
   "cell_type": "code",
   "execution_count": null,
   "metadata": {},
   "outputs": [],
   "source": []
  },
  {
   "cell_type": "code",
   "execution_count": 7,
   "metadata": {},
   "outputs": [
    {
     "name": "stdout",
     "output_type": "stream",
     "text": [
      "[1, 2, 3, 4, 5, 6, 7, 8, 9]\n",
      "[1, 2, 3]\n"
     ]
    },
    {
     "data": {
      "text/plain": [
       "['a', 'b', 'c']"
      ]
     },
     "execution_count": 7,
     "metadata": {},
     "output_type": "execute_result"
    }
   ],
   "source": [
    "# a STRING\n",
    "list('malcolm'), \n",
    "# ['m', 'a', 'l', 'c', 'o', 'l', 'm'] \n",
    "\n",
    "\n",
    "# a TUPLE\n",
    "list( ('one','more','thing') ),\n",
    "# ['one', 'more', 'thing']\n",
    "\n",
    "\n",
    "# a DICTIONARY\n",
    "list( {'a':1, 'b':2, 'c':3} )\n",
    "# ['a', 'b', 'c']     \n",
    "\n",
    "\n",
    "# a SET\n",
    "list( {'x', 'y', 'z'} )\n",
    "# ['x', 'y', 'z']\n",
    "\n",
    "# a RANGE\n",
    "\n",
    "print( list( range(1,10) ) )\n",
    "\n",
    "# a numpy array\n",
    "\n",
    "print( list( np.array( [1, 2, 3] ) ) )\n",
    "\n",
    "# a pandas series\n",
    "\n",
    "list( pd.Series( ['a', 'b', 'c'] ) )\n"
   ]
  },
  {
   "cell_type": "code",
   "execution_count": 8,
   "metadata": {},
   "outputs": [
    {
     "name": "stdout",
     "output_type": "stream",
     "text": [
      "Madrid\n"
     ]
    },
    {
     "data": {
      "text/plain": [
       "'Stuttgart'"
      ]
     },
     "execution_count": 8,
     "metadata": {},
     "output_type": "execute_result"
    }
   ],
   "source": [
    "# list of cities\n",
    "cities = ['Madrid', 'Munich', 'Valencia', 'Stuttgart']\n",
    "\n",
    "# access the first element of the list\n",
    "print(\n",
    "    \n",
    "    cities[0]\n",
    "    \n",
    ")\n",
    "# 'Madrid'\n",
    "\n",
    "# access the last element of the list\n",
    "cities[3]\n",
    "# 'Stuttgart'\n",
    "\n",
    "# try to access an index out of range\n",
    "#  cities[4]\n",
    "# IndexError"
   ]
  },
  {
   "cell_type": "markdown",
   "metadata": {},
   "source": [
    "Define a list using a **List comprehension**\n",
    "\n",
    "[ **expression** for **element** in **iterable** ]"
   ]
  },
  {
   "cell_type": "code",
   "execution_count": 9,
   "metadata": {},
   "outputs": [
    {
     "name": "stdout",
     "output_type": "stream",
     "text": [
      "[0, 1, 2, 3, 4, 5, 6, 7, 8, 9]\n"
     ]
    }
   ],
   "source": [
    "print( [n for n in range(10)] )"
   ]
  },
  {
   "cell_type": "code",
   "execution_count": 10,
   "metadata": {},
   "outputs": [
    {
     "name": "stdout",
     "output_type": "stream",
     "text": [
      "[0, 1, 4, 9, 16, 25, 36, 49, 64, 81]\n"
     ]
    }
   ],
   "source": [
    "print( [n**2 for n in range(10)] )"
   ]
  },
  {
   "cell_type": "code",
   "execution_count": 11,
   "metadata": {},
   "outputs": [
    {
     "name": "stdout",
     "output_type": "stream",
     "text": [
      "[0, 4, 16, 36, 64]\n"
     ]
    }
   ],
   "source": [
    "print( [n**2 for n in range(10) if 0 == n%2 ])"
   ]
  },
  {
   "cell_type": "code",
   "execution_count": 12,
   "metadata": {},
   "outputs": [
    {
     "name": "stdout",
     "output_type": "stream",
     "text": [
      "[0, -1, 4, -9, 16, -25, 36, -49, 64, -81]\n"
     ]
    }
   ],
   "source": [
    "print( [ n**2 if 0 == n%2 else -1*n**2 for n in range(10)])"
   ]
  },
  {
   "cell_type": "code",
   "execution_count": null,
   "metadata": {},
   "outputs": [],
   "source": []
  },
  {
   "cell_type": "code",
   "execution_count": null,
   "metadata": {},
   "outputs": [],
   "source": []
  },
  {
   "cell_type": "code",
   "execution_count": null,
   "metadata": {},
   "outputs": [],
   "source": []
  },
  {
   "cell_type": "code",
   "execution_count": null,
   "metadata": {},
   "outputs": [],
   "source": []
  }
 ],
 "metadata": {
  "kernelspec": {
   "display_name": "Python 3",
   "language": "python",
   "name": "python3"
  },
  "language_info": {
   "codemirror_mode": {
    "name": "ipython",
    "version": 3
   },
   "file_extension": ".py",
   "mimetype": "text/x-python",
   "name": "python",
   "nbconvert_exporter": "python",
   "pygments_lexer": "ipython3",
   "version": "3.7.6"
  }
 },
 "nbformat": 4,
 "nbformat_minor": 4
}
