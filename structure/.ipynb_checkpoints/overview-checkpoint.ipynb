{
 "cells": [
  {
   "cell_type": "raw",
   "metadata": {},
   "source": [
    "<script>\n",
    "  function code_toggle() {\n",
    "    if (code_shown){\n",
    "      $('div.input').hide('500');\n",
    "      $('#toggleButton').val('Show Code')\n",
    "    } else {\n",
    "      $('div.input').show('500');\n",
    "      $('#toggleButton').val('Hide Code')\n",
    "    }\n",
    "    code_shown = !code_shown\n",
    "  }\n",
    "\n",
    "  $( document ).ready(function(){\n",
    "    code_shown=false;\n",
    "    $('div.input').hide()\n",
    "  });\n",
    "</script>\n",
    "<form action=\"javascript:code_toggle()\"><input type=\"submit\" id=\"toggleButton\" value=\"Show Code\"></form>"
   ]
  },
  {
   "cell_type": "markdown",
   "metadata": {},
   "source": [
    "# Structures in Python\n",
    "\n",
    "There are FIVE structures in Python:\n",
    "\n",
    "- Lists\n",
    "- Sets\n",
    "- Frozensets\n",
    "- Tuples\n",
    "- Dictionaries\n",
    "\n",
    "Tuples and Frozensets are immutable (can be used as a key). \n",
    "\n",
    "Lists, Sets, and Dictionaries are mutable (cannot be used a a key)."
   ]
  },
  {
   "cell_type": "markdown",
   "metadata": {},
   "source": [
    "## List"
   ]
  },
  {
   "cell_type": "markdown",
   "metadata": {},
   "source": [
    "A Python list ... ['a', 'b', 'c'] ... is an ordered-collection of arbitrary objects.\n",
    "\n",
    "- **ordered**: ['a','b'] is not ['b','a']\n",
    "- **indexed**: accessible by index\n",
    "- **not unique**: ['a', 'a', 'a', 'b', 'b']\n",
    "- **iterable**: for n in [1, 2, 3, 4, 5, 6]:\n",
    "- **dynamic**: append, delete, insert, pop, remove, slice, sort, reverse, concatenate, extend\n",
    "- **mutable**: cannot be used as a key\n",
    "- **arbitrary**: [1, 'A', False]\n",
    "- **nestable**: [1, 2, 3, [a, b, c], 4]\n",
    "\n",
    "The list is the work-horse of Python.\n",
    "\n",
    "References\n",
    "- https://towardsdatascience.com/15-things-you-should-know-about-lists-in-python-c566792eca98\n",
    "- https://www.datacamp.com/community/tutorials/18-most-common-python-list-questions-learn-python"
   ]
  },
  {
   "cell_type": "code",
   "execution_count": null,
   "metadata": {},
   "outputs": [],
   "source": []
  }
 ],
 "metadata": {
  "kernelspec": {
   "display_name": "Python 3",
   "language": "python",
   "name": "python3"
  },
  "language_info": {
   "codemirror_mode": {
    "name": "ipython",
    "version": 3
   },
   "file_extension": ".py",
   "mimetype": "text/x-python",
   "name": "python",
   "nbconvert_exporter": "python",
   "pygments_lexer": "ipython3",
   "version": "3.7.6"
  }
 },
 "nbformat": 4,
 "nbformat_minor": 4
}
