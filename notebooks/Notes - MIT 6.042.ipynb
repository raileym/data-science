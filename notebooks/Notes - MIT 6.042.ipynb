{
 "cells": [
  {
   "cell_type": "markdown",
   "metadata": {},
   "source": [
    "### Definition: Proposition\n",
    "\n",
    "A <mark>Proposition</mark> is a statement is either true or false.\n",
    "\n",
    " - 2+3 = 5 (true)\n",
    " - 2+2 = 5 (false)\n",
    " - The time is 5 o'clock (not a proposition)\n",
    " \n",
    "### Definition: Predicate\n",
    "\n",
    "A <mark>Predicate</mark> is a proposition whose truthfulness depends on the value one or more variables.\n",
    "\n",
    " - \"n is a perfect square.\"\n",
    " - \"n is an even number.\"\n",
    " - \"n is a prime number.\"\n",
    " \n",
    "----\n",
    "\n",
    "### Definition: Axiom\n",
    "\n",
    "An <mark>Axiom</mark> is a proposition that is accepted as true.\n",
    "\n",
    "### Definition: Theorem\n",
    "\n",
    "Important true propositions are called <mark>Theorems</mark>.\n",
    "\n",
    "### Definition: Lemma\n",
    "\n",
    "A <mark>Lemma</mark> is a preliminary proposition useful for proving later propositions.\n",
    "\n",
    "### Definition: Corollary\n",
    "\n",
    "A <mark>Corollary</mark> is a proposition that follows in just a few logical steps from a theorem.\n",
    "\n",
    "### Definition: Proof\n",
    "    \n",
    "A <mark>Proof</mark> is a sequence of logical deductions from \n",
    "axioms and previously proved propositions that concludes with the proposition in question.\n",
    "\n"
   ]
  },
  {
   "cell_type": "markdown",
   "metadata": {},
   "source": [
    "----\n",
    "\n",
    "### Definition: Axiomatic Method\n",
    "    \n",
    "The standard procedure for establishing truth in mathematics -- the <mark>Axiomatic Method</mark> -- was invented by  Euclid, a mathematician working in Alexandria, Egypt around 300 BC. Euclid's axiom-and-proof approach, now called the Axiomatic Method, remains the foundation for mathematics today."
   ]
  },
  {
   "cell_type": "markdown",
   "metadata": {},
   "source": [
    "----\n",
    "\n",
    "### Definition: Modus Ponens\n",
    "\n",
    "<mark>Modus Ponens</mark> is a fundamental inference rule that says a proof of $P$ together with a proof that $P \\textrm{ IMPLIES } Q$ is a proof of $Q$. Modus ponens is written:\n",
    "\n",
    "**Rule**.\n",
    "\n",
    "$$\\frac{P, P \\textrm{ IMPLIES } Q} {Q}$$\n",
    "\n",
    "When the statements above the line, called the <mark>antecedents</mark>, are proved, then we can consider the statement below the line, called the <mark>conclusion</mark> or <mark>consequent</mark>, also to be proved."
   ]
  }
 ],
 "metadata": {
  "kernelspec": {
   "display_name": "Python 3",
   "language": "python",
   "name": "python3"
  },
  "language_info": {
   "codemirror_mode": {
    "name": "ipython",
    "version": 3
   },
   "file_extension": ".py",
   "mimetype": "text/x-python",
   "name": "python",
   "nbconvert_exporter": "python",
   "pygments_lexer": "ipython3",
   "version": "3.7.6"
  }
 },
 "nbformat": 4,
 "nbformat_minor": 4
}
