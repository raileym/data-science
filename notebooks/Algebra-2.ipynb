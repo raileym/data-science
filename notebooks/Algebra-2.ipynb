{
 "cells": [
  {
   "cell_type": "code",
   "execution_count": 1,
   "metadata": {},
   "outputs": [],
   "source": [
    "from __future__ import print_function\n",
    "from ipywidgets import interact, interactive, fixed, interact_manual\n",
    "import ipywidgets as widgets"
   ]
  },
  {
   "cell_type": "code",
   "execution_count": 2,
   "metadata": {},
   "outputs": [],
   "source": [
    "import math\n",
    "import numpy as np\n",
    "import matplotlib.pyplot as plt\n",
    "from IPython.display import display, Markdown, Latex\n",
    "\n",
    "def f(A, B, C, h, k):\n",
    "    x = np.linspace(-10,10,num=100)\n",
    "    #h = 0\n",
    "    #A = 4\n",
    "    #B = 0\n",
    "    #C = 0\n",
    "    \n",
    "    fx = []\n",
    "    for i in range(len(x)):\n",
    "        fx.append(A*(x[i]-h)**2 + B*(x[i]-h) + C - k)\n",
    "    \n",
    "    print(range(math.floor(min(fx)), math.ceil(max(fx))+1))\n",
    "    fig, ax = plt.subplots(1, figsize=(8, 6))\n",
    "    fig.suptitle('Example Of Plot With Grid Lines')\n",
    "    \n",
    "    ax.plot(x, fx, linewidth=6, color='blue')\n",
    "    plt.grid(b=True, which='major', color='#eeeeee', linestyle='-')\n",
    "    plt.xlim(-10, 10)\n",
    "    plt.ylim(-10, 10)\n",
    "    plt.yticks(range(-10,10,2))\n",
    "    #plt.grid()\n",
    "    plt.axvline()\n",
    "    plt.axhline()\n",
    "    plt.show()\n",
    "\n",
    "    display(Markdown(f\"${A}x^2+{B}x+{C}$\"))\n",
    "    display(Markdown('**The** first time is $x=\\\\frac{1}{'+str(A)+'}$'))\n",
    "    return "
   ]
  },
  {
   "cell_type": "code",
   "execution_count": 3,
   "metadata": {
    "scrolled": true
   },
   "outputs": [
    {
     "data": {
      "application/vnd.jupyter.widget-view+json": {
       "model_id": "42293b4159014046b4f0acf42795c8b2",
       "version_major": 2,
       "version_minor": 0
      },
      "text/plain": [
       "interactive(children=(IntSlider(value=1, description='A', max=3, min=-1), IntSlider(value=0, description='B', …"
      ]
     },
     "metadata": {},
     "output_type": "display_data"
    }
   ],
   "source": [
    "w = interactive(f, A=1, B=0, C=-4, h=4, k=0);\n",
    "display(w)"
   ]
  },
  {
   "cell_type": "code",
   "execution_count": 4,
   "metadata": {},
   "outputs": [],
   "source": [
    "import math\n",
    "import numpy as np\n",
    "import matplotlib.pyplot as plt\n",
    "from IPython.display import display, Markdown, Latex\n",
    "\n",
    "def g(x, A, B, C, h, k):\n",
    "    #x = np.linspace(-10,10,num=100)\n",
    "    #h = 0\n",
    "    #A = 4\n",
    "    #B = 0\n",
    "    #C = 0\n",
    "    \n",
    "    fx = []\n",
    "    for i in range(len(x)):\n",
    "        fx.append(A*(x[i]-h)**2 + B*(x[i]-h) + C - k)\n",
    "    \n",
    "    #fig, ax = plt.subplots(1, figsize=(8, 6))\n",
    "    #fig.suptitle('Example Of Plot With Grid Lines')\n",
    "    \n",
    "    ax.plot(x, fx, linewidth=6, color='blue')\n",
    "    #plt.grid(b=True, which='major', color='#eeeeee', linestyle='-')\n",
    "    #plt.xlim(-10, 10)\n",
    "    #plt.ylim(-10, 10)\n",
    "    #plt.yticks(range(-10,10,2))\n",
    "    #plt.grid()\n",
    "    #plt.axvline()\n",
    "    #plt.axhline()\n",
    "    #plt.show()\n",
    "\n",
    "    #display(Markdown(f\"${A}x^2+{B}x+{C}$\"))\n",
    "    #display(Markdown('**The** first time is $x=\\\\frac{1}{'+str(A)+'}$'))\n",
    "    return "
   ]
  },
  {
   "cell_type": "code",
   "execution_count": 5,
   "metadata": {},
   "outputs": [
    {
     "data": {
      "image/png": "[encoded data removed]",
      "text/plain": [
       "<Figure size 576x432 with 1 Axes>"
      ]
     },
     "metadata": {
      "needs_background": "light"
     },
     "output_type": "display_data"
    },
    {
     "data": {
      "application/vnd.jupyter.widget-view+json": {
       "model_id": "c02dd5b5797e4847bb31b1a9709894ef",
       "version_major": 2,
       "version_minor": 0
      },
      "text/plain": [
       "interactive(children=(Dropdown(description='x', options=(-10.0, -9.797979797979798, -9.595959595959595, -9.393…"
      ]
     },
     "metadata": {},
     "output_type": "display_data"
    }
   ],
   "source": [
    "x = np.linspace(-10,10,num=100)\n",
    "\n",
    "A=1\n",
    "B=0\n",
    "C=-4\n",
    "h=4\n",
    "k=0\n",
    "\n",
    "fx = []\n",
    "for i in range(len(x)):\n",
    "    fx.append(A*(x[i]-h)**2 + B*(x[i]-h) + C - k)\n",
    "    \n",
    "fig, ax = plt.subplots(1, figsize=(8, 6))\n",
    "fig.suptitle('Example Of Plot With Grid Lines')\n",
    "\n",
    "ax.plot(x, fx, linewidth=6, color='blue')\n",
    "plt.grid(b=True, which='major', color='#eeeeee', linestyle='-')\n",
    "plt.xlim(-10, 10)\n",
    "plt.ylim(-10, 10)\n",
    "plt.yticks(range(-10,10,2))\n",
    "#plt.grid()\n",
    "plt.axvline()\n",
    "plt.axhline()\n",
    "plt.show()\n",
    "\n",
    "w = interactive(g, x=x, A=A, B=B, C=C, h=h, k=k);\n",
    "display(w)\n",
    "#display(Markdown(f\"${A}x^2+{B}x+{C}$\"))\n",
    "#display(Markdown('**The** first time is $x=\\\\frac{1}{'+str(A)+'}$'))\n",
    "\n"
   ]
  },
  {
   "cell_type": "code",
   "execution_count": 6,
   "metadata": {},
   "outputs": [
    {
     "data": {
      "application/vnd.jupyter.widget-view+json": {
       "model_id": "813babf3f91d4249899b54277ab95a66",
       "version_major": 2,
       "version_minor": 0
      },
      "text/plain": [
       "Output()"
      ]
     },
     "metadata": {},
     "output_type": "display_data"
    }
   ],
   "source": [
    "import k3d\n",
    "import numpy as np\n",
    "\n",
    "Nx, Ny  = 34, 33\n",
    "xmin, xmax = -3, 4\n",
    "ymin, ymax = -0, 3\n",
    "\n",
    "x = np.linspace(xmin, xmax, Nx)\n",
    "y = np.linspace(ymin, ymax, Ny)\n",
    "x, y = np.meshgrid(x, y)\n",
    "f = np.sin(x**2 + y**2)\n",
    "\n",
    "plot = k3d.plot()\n",
    "plt_surface = k3d.surface(f.astype(np.float32), bounds=[xmin,xmax,ymin,ymax])\n",
    "plot += plt_surface\n",
    "plot.display()"
   ]
  },
  {
   "cell_type": "code",
   "execution_count": 7,
   "metadata": {},
   "outputs": [
    {
     "data": {
      "application/vnd.jupyter.widget-view+json": {
       "model_id": "f7a261eb2e4b40a686443ea0ff18bdf3",
       "version_major": 2,
       "version_minor": 0
      },
      "text/plain": [
       "interactive(children=(Dropdown(description='color', options=('blue', 'red'), value='blue'), IntSlider(value=5,…"
      ]
     },
     "metadata": {},
     "output_type": "display_data"
    }
   ],
   "source": [
    "# See https://towardsdatascience.com/interactive-graphs-in-python-830b1e6c197f\n",
    "import math\n",
    "import numpy as np\n",
    "import matplotlib.pyplot as plt\n",
    "from matplotlib import figure\n",
    "from ipywidgets import interact\n",
    "\n",
    "def g(x, a, h, k):\n",
    "    return a*np.sqrt(np.abs(x-h))+k#a*x**3+b*x+c\n",
    "    #return a*np.sin(x)#a*np.sqrt(np.abs(math.max(0,x)))#a*x**3+b*x+c\n",
    "\n",
    "@interact\n",
    "def poly(color=['blue', 'red'], a=(1,10), h=(-6,6), k=(-6,6)):\n",
    "    \n",
    "    p = np.linspace(-10, 10, 400)\n",
    "    \n",
    "    y = np.array(list(map(lambda x: g(x, a, h, k), p)))\n",
    "    \n",
    "    blue = True\n",
    "    red = False\n",
    "    \n",
    "    fig, ax = plt.subplots(1, figsize=(8, 8))\n",
    "    fig.suptitle('Example Of Plot With Grid Lines')\n",
    "    \n",
    "    if (color == 'blue'):\n",
    "        ax.plot(p, y, color='blue',linewidth=6)\n",
    "        fig.suptitle('Example Of BLUE Plot With Grid Lines')\n",
    "    else:\n",
    "        ax.plot(p, y, color='red',linewidth=6)\n",
    "        fig.suptitle('Example Of RED Plot With Grid Lines')\n",
    "    \n",
    "    #ax.plot(p, y, color='blue',linewidth=6)\n",
    "    plt.axhline(y=0, color=\"black\", linestyle=\"-\")\n",
    "    plt.axvline(x=0, color=\"black\", linestyle=\"-\")\n",
    "    plt.ylabel('y=f(x)')\n",
    "    plt.xlabel('x')\n",
    "    plt.grid(b=True, which='major', color='#eeeeee', linestyle='-')\n",
    "    plt.xlim(-5, 5)\n",
    "    plt.ylim(-10, 10)\n",
    "    plt.yticks(range(-10,10,2))\n",
    "    plt.title('function f(x)')\n",
    "    return plt.figure()"
   ]
  },
  {
   "cell_type": "code",
   "execution_count": 8,
   "metadata": {},
   "outputs": [
    {
     "data": {
      "application/vnd.jupyter.widget-view+json": {
       "model_id": "c2875c8da6b8455cab544f96a6b9967d",
       "version_major": 2,
       "version_minor": 0
      },
      "text/plain": [
       "interactive(children=(Dropdown(description='color', options=('blue', 'red', 'green'), value='blue'), IntSlider…"
      ]
     },
     "metadata": {},
     "output_type": "display_data"
    },
    {
     "data": {
      "text/plain": [
       "<function __main__.polyFactory.<locals>.poly(color, a, h, k)>"
      ]
     },
     "execution_count": 8,
     "metadata": {},
     "output_type": "execute_result"
    }
   ],
   "source": [
    "# See https://towardsdatascience.com/interactive-graphs-in-python-830b1e6c197f\n",
    "import math\n",
    "import numpy as np\n",
    "import matplotlib.pyplot as plt\n",
    "from matplotlib import figure\n",
    "from ipywidgets import interact\n",
    "\n",
    "def g(x, a, h, k):\n",
    "    return a*np.sqrt(np.abs(x-h))+k#a*x**3+b*x+c\n",
    "\n",
    "def plotter(plt, title, color, x, y):\n",
    "    fig, ax = plt.subplots(1, figsize=(8, 8))\n",
    "    fig.suptitle(title)\n",
    "    if (color == 'blue'):\n",
    "        ax.plot(x, y, color='blue',linewidth=6)\n",
    "    else:\n",
    "        ax.plot(x, y, color='red',linewidth=6)\n",
    "\n",
    "    #ax.plot(p, y, color='blue',linewidth=6)\n",
    "    plt.axhline(y=0, color=\"black\", linestyle=\"-\")\n",
    "    plt.axvline(x=0, color=\"black\", linestyle=\"-\")\n",
    "    plt.ylabel('y=f(x)')\n",
    "    plt.xlabel('x')\n",
    "    plt.grid(b=True, which='major', color='#eeeeee', linestyle='-')\n",
    "    plt.xlim(-5, 5)\n",
    "    plt.ylim(-10, 10)\n",
    "    plt.yticks(range(-10,10,2))\n",
    "    plt.title('function f(x)')\n",
    "    return plt.figure()\n",
    "\n",
    "\n",
    "def polyFactory(func, title, x):\n",
    "    \n",
    "    def poly(color, a, h, k):\n",
    "    \n",
    "        y = np.array(list(map(lambda x: func(x, a, h, k), x)))\n",
    "\n",
    "        return plotter(plt, title, color, x, y)\n",
    "    \n",
    "    return poly\n",
    "\n",
    "my_poly = polyFactory(func=g, title='Example of a Plot', x=np.linspace(-10, 10, 400))\n",
    "\n",
    "interact(my_poly, color=['blue', 'red', 'green'], a=(1,10), h=(-6,6), k=(-6,6))"
   ]
  },
  {
   "cell_type": "code",
   "execution_count": 9,
   "metadata": {},
   "outputs": [
    {
     "data": {
      "application/vnd.jupyter.widget-view+json": {
       "model_id": "1f1d087f661743b0b609bf5cd3c93f98",
       "version_major": 2,
       "version_minor": 0
      },
      "text/plain": [
       "Output()"
      ]
     },
     "metadata": {},
     "output_type": "display_data"
    }
   ],
   "source": [
    "import numpy as np\n",
    "\n",
    "x = np.random.randn(1000,3).astype(np.float32)\n",
    "point_size = 0.2\n",
    "\n",
    "plot = k3d.plot(name='points')\n",
    "plt_points = k3d.points(positions=x, point_size=0.2)\n",
    "plot += plt_points\n",
    "plt_points.shader='3d'\n",
    "plot.display()"
   ]
  },
  {
   "cell_type": "code",
   "execution_count": 10,
   "metadata": {},
   "outputs": [
    {
     "data": {
      "application/vnd.jupyter.widget-view+json": {
       "model_id": "0c85590709a34eb69ec5c4c2c86aaed5",
       "version_major": 2,
       "version_minor": 0
      },
      "text/plain": [
       "Output()"
      ]
     },
     "metadata": {},
     "output_type": "display_data"
    }
   ],
   "source": [
    "import numpy as np\n",
    "import k3d\n",
    "plot = k3d.plot(camera_auto_fit=False)\n",
    "N = 10000\n",
    "traj = np.cumsum(np.random.randn(N,3).astype(np.float32),axis=0)\n",
    "plt_line = k3d.line(traj, shader='mesh', width=0.5)\n",
    "plt_line2 = k3d.line([traj[0],traj[-1]],shader='mesh', width=2.5, color=0xff0000)\n",
    "plot += plt_line\n",
    "plot += plt_line2\n",
    "plot.display()"
   ]
  },
  {
   "cell_type": "code",
   "execution_count": 11,
   "metadata": {},
   "outputs": [
    {
     "data": {
      "application/vnd.jupyter.widget-view+json": {
       "model_id": "699a05ec4baa4fe8abaf77cf19dae890",
       "version_major": 2,
       "version_minor": 0
      },
      "text/plain": [
       "Output()"
      ]
     },
     "metadata": {},
     "output_type": "display_data"
    }
   ],
   "source": [
    "import numpy as np\n",
    "import k3d\n",
    "\n",
    "plot = k3d.plot()\n",
    "\n",
    "Nx, Ny = 40, 80\n",
    "xmin, xmax, ymin, ymax = -3, 3, 0, 3\n",
    "\n",
    "x = np.linspace(xmin, xmax, Nx, dtype=np.float32)\n",
    "y = np.linspace(ymin, ymax, Ny, dtype=np.float32)\n",
    "x, y = np.meshgrid(x, y)\n",
    "\n",
    "heights = np.sin(x**2 + y**2)\n",
    "\n",
    "plt_surface = k3d.surface(heights, xmin=xmin, xmax=xmax, ymin=ymin, ymax=ymax)\n",
    "plot += plt_surface\n",
    "\n",
    "plot.display()"
   ]
  },
  {
   "cell_type": "code",
   "execution_count": 12,
   "metadata": {},
   "outputs": [
    {
     "data": {
      "application/vnd.jupyter.widget-view+json": {
       "model_id": "2e43ca17cdcf4786b67d3b3f10bb7b54",
       "version_major": 2,
       "version_minor": 0
      },
      "text/plain": [
       "Plot(antialias=3, axes=['x', 'y', 'z'], axes_helper=1.0, background_color=16777215, camera=[2, -3, 0.2, 0.0, 0…"
      ]
     },
     "metadata": {},
     "output_type": "display_data"
    }
   ],
   "source": [
    "from matplotlib.tri import Triangulation\n",
    "import numpy as np\n",
    "import k3d\n",
    "\n",
    "# this code is a part of matplotlib trisurf3d_demo\n",
    "n_radii = 8\n",
    "n_angles = 36\n",
    "\n",
    "radii = np.linspace(0.125, 1.0, n_radii, dtype=np.float32)\n",
    "angles = np.linspace(0, 2*np.pi, n_angles, endpoint=False, dtype=np.float32)[..., np.newaxis]\n",
    "\n",
    "x = np.append(np.float32(0), (radii*np.cos(angles)).flatten())\n",
    "y = np.append(np.float32(0), (radii*np.sin(angles)).flatten())\n",
    "\n",
    "z = np.sin(-x*y)\n",
    "indices = Triangulation(x,y).triangles.astype(np.uint32)\n",
    "\n",
    "plot = k3d.plot()\n",
    "plot"
   ]
  },
  {
   "cell_type": "code",
   "execution_count": 13,
   "metadata": {},
   "outputs": [
    {
     "data": {
      "application/vnd.jupyter.widget-view+json": {
       "model_id": "67634681211945c9b27186dcb3fbd0fd",
       "version_major": 2,
       "version_minor": 0
      },
      "text/plain": [
       "Output()"
      ]
     },
     "metadata": {},
     "output_type": "display_data"
    }
   ],
   "source": [
    "\n",
    "import k3d\n",
    "import numpy as np\n",
    "import time\n",
    "plot = k3d.plot()\n",
    "\n",
    "\n",
    "T = 1.6\n",
    "from numpy import sin,cos,pi\n",
    "r = 4.77\n",
    "zmin,zmax = -r,r\n",
    "xmin,xmax = -r,r\n",
    "ymin,ymax = -r,r\n",
    "Nx,Ny,Nz = 37,37,37\n",
    "\n",
    "x = np.linspace(xmin, xmax, Nx, dtype=np.float32)\n",
    "y = np.linspace(ymin, ymax, Ny, dtype=np.float32)\n",
    "z = np.linspace(zmin, zmax, Nz, dtype=np.float32)\n",
    "x,y,z = np.meshgrid(x,y,z,indexing='ij')\n",
    "p = 2 - (cos(x + T*y) + cos(x - T*y) + cos(y + T*z) + cos(y - T*z) + cos(z - T*x) + cos(z + T*x))\n",
    "plt_iso = k3d.marching_cubes(p,compression_level=9,xmin=xmin, xmax=xmax,\n",
    "                         ymin=ymin, ymax=ymax,\n",
    "                         zmin=zmin, zmax=zmax, level=0.0,\n",
    "                        flat_shading=False)\n",
    "plot += plt_iso\n",
    "plot.display()"
   ]
  },
  {
   "cell_type": "code",
   "execution_count": 14,
   "metadata": {},
   "outputs": [
    {
     "data": {
      "image/png": "[encoded data removed]",
      "text/plain": [
       "<Figure size 432x288 with 1 Axes>"
      ]
     },
     "metadata": {
      "needs_background": "light"
     },
     "output_type": "display_data"
    }
   ],
   "source": [
    "import matplotlib.pyplot as plt\n",
    "from mpl_toolkits.mplot3d import Axes3D\n",
    "fig = plt.figure()\n",
    "ax = fig.add_subplot(111, projection='3d')"
   ]
  },
  {
   "cell_type": "code",
   "execution_count": 15,
   "metadata": {},
   "outputs": [
    {
     "data": {
      "image/png": "[encoded data removed]",
      "text/plain": [
       "<Figure size 432x288 with 1 Axes>"
      ]
     },
     "metadata": {
      "needs_background": "light"
     },
     "output_type": "display_data"
    }
   ],
   "source": [
    "import matplotlib as mpl\n",
    "from mpl_toolkits.mplot3d import Axes3D\n",
    "import numpy as np\n",
    "import matplotlib.pyplot as plt\n",
    "\n",
    "mpl.rcParams['legend.fontsize'] = 10\n",
    "\n",
    "fig = plt.figure()\n",
    "ax = fig.gca(projection='3d')\n",
    "theta = np.linspace(-4 * np.pi, 4 * np.pi, 100)\n",
    "z = np.linspace(-2, 2, 100)\n",
    "r = z**2 + 1\n",
    "x = r * np.sin(theta)\n",
    "y = r * np.cos(theta)\n",
    "ax.plot(x, y, z, label='parametric curve')\n",
    "ax.legend()\n",
    "\n",
    "plt.show()"
   ]
  }
 ],
 "metadata": {
  "kernelspec": {
   "display_name": "Python 3",
   "language": "python",
   "name": "python3"
  },
  "language_info": {
   "codemirror_mode": {
    "name": "ipython",
    "version": 3
   },
   "file_extension": ".py",
   "mimetype": "text/x-python",
   "name": "python",
   "nbconvert_exporter": "python",
   "pygments_lexer": "ipython3",
   "version": "3.7.6"
  }
 },
 "nbformat": 4,
 "nbformat_minor": 4
}
