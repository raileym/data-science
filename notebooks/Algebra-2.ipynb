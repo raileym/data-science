{
 "cells": [
  {
   "cell_type": "code",
   "execution_count": 1,
   "metadata": {},
   "outputs": [],
   "source": [
    "from __future__ import print_function\n",
    "from ipywidgets import interact, interactive, fixed, interact_manual\n",
    "import ipywidgets as widgets"
   ]
  },
  {
   "cell_type": "code",
   "execution_count": 2,
   "metadata": {},
   "outputs": [],
   "source": [
    "import math\n",
    "import numpy as np\n",
    "import matplotlib.pyplot as plt\n",
    "from IPython.display import display, Markdown, Latex\n",
    "\n",
    "def f(A, B, C, h, k):\n",
    "    x = np.linspace(-10,10,num=100)\n",
    "    #h = 0\n",
    "    #A = 4\n",
    "    #B = 0\n",
    "    #C = 0\n",
    "    \n",
    "    fx = []\n",
    "    for i in range(len(x)):\n",
    "        fx.append(A*(x[i]-h)**2 + B*(x[i]-h) + C - k)\n",
    "    \n",
    "    print(range(math.floor(min(fx)), math.ceil(max(fx))+1))\n",
    "    fig, ax = plt.subplots(1, figsize=(8, 6))\n",
    "    fig.suptitle('Example Of Plot With Grid Lines')\n",
    "    \n",
    "    ax.plot(x, fx, linewidth=6, color='blue')\n",
    "    plt.grid(b=True, which='major', color='#eeeeee', linestyle='-')\n",
    "    plt.xlim(-10, 10)\n",
    "    plt.ylim(-10, 10)\n",
    "    plt.yticks(range(-10,10,2))\n",
    "    #plt.grid()\n",
    "    plt.axvline()\n",
    "    plt.axhline()\n",
    "    plt.show()\n",
    "\n",
    "    display(Markdown(f\"${A}x^2+{B}x+{C}$\"))\n",
    "    display(Markdown('**The** first time is $x=\\\\frac{1}{'+str(A)+'}$'))\n",
    "    return "
   ]
  },
  {
   "cell_type": "code",
   "execution_count": 3,
   "metadata": {
    "scrolled": true
   },
   "outputs": [
    {
     "data": {
      "application/vnd.jupyter.widget-view+json": {
       "model_id": "ff5055b43add407aa698f98f87df044c",
       "version_major": 2,
       "version_minor": 0
      },
      "text/plain": [
       "interactive(children=(IntSlider(value=1, description='A', max=3, min=-1), IntSlider(value=0, description='B', …"
      ]
     },
     "metadata": {},
     "output_type": "display_data"
    }
   ],
   "source": [
    "w = interactive(f, A=1, B=0, C=-4, h=4, k=0);\n",
    "display(w)"
   ]
  },
  {
   "cell_type": "code",
   "execution_count": 9,
   "metadata": {},
   "outputs": [],
   "source": [
    "import math\n",
    "import numpy as np\n",
    "import matplotlib.pyplot as plt\n",
    "from IPython.display import display, Markdown, Latex\n",
    "\n",
    "def g(x, A, B, C, h, k):\n",
    "    #x = np.linspace(-10,10,num=100)\n",
    "    #h = 0\n",
    "    #A = 4\n",
    "    #B = 0\n",
    "    #C = 0\n",
    "    \n",
    "    fx = []\n",
    "    for i in range(len(x)):\n",
    "        fx.append(A*(x[i]-h)**2 + B*(x[i]-h) + C - k)\n",
    "    \n",
    "    #fig, ax = plt.subplots(1, figsize=(8, 6))\n",
    "    #fig.suptitle('Example Of Plot With Grid Lines')\n",
    "    \n",
    "    ax.plot(x, fx, linewidth=6, color='blue')\n",
    "    #plt.grid(b=True, which='major', color='#eeeeee', linestyle='-')\n",
    "    #plt.xlim(-10, 10)\n",
    "    #plt.ylim(-10, 10)\n",
    "    #plt.yticks(range(-10,10,2))\n",
    "    #plt.grid()\n",
    "    #plt.axvline()\n",
    "    #plt.axhline()\n",
    "    #plt.show()\n",
    "\n",
    "    #display(Markdown(f\"${A}x^2+{B}x+{C}$\"))\n",
    "    #display(Markdown('**The** first time is $x=\\\\frac{1}{'+str(A)+'}$'))\n",
    "    return "
   ]
  },
  {
   "cell_type": "code",
   "execution_count": 10,
   "metadata": {},
   "outputs": [
    {
     "data": {
      "image/png": "[encoded data removed]",
      "text/plain": [
       "<Figure size 576x432 with 1 Axes>"
      ]
     },
     "metadata": {
      "needs_background": "light"
     },
     "output_type": "display_data"
    },
    {
     "data": {
      "application/vnd.jupyter.widget-view+json": {
       "model_id": "1db4963a53c34bae9df498f4f82ad27a",
       "version_major": 2,
       "version_minor": 0
      },
      "text/plain": [
       "interactive(children=(Dropdown(description='x', options=(-10.0, -9.797979797979798, -9.595959595959595, -9.393…"
      ]
     },
     "metadata": {},
     "output_type": "display_data"
    }
   ],
   "source": [
    "x = np.linspace(-10,10,num=100)\n",
    "\n",
    "A=1\n",
    "B=0\n",
    "C=-4\n",
    "h=4\n",
    "k=0\n",
    "\n",
    "fx = []\n",
    "for i in range(len(x)):\n",
    "    fx.append(A*(x[i]-h)**2 + B*(x[i]-h) + C - k)\n",
    "    \n",
    "fig, ax = plt.subplots(1, figsize=(8, 6))\n",
    "fig.suptitle('Example Of Plot With Grid Lines')\n",
    "\n",
    "ax.plot(x, fx, linewidth=6, color='blue')\n",
    "plt.grid(b=True, which='major', color='#eeeeee', linestyle='-')\n",
    "plt.xlim(-10, 10)\n",
    "plt.ylim(-10, 10)\n",
    "plt.yticks(range(-10,10,2))\n",
    "#plt.grid()\n",
    "plt.axvline()\n",
    "plt.axhline()\n",
    "plt.show()\n",
    "\n",
    "w = interactive(g, x=x, A=A, B=B, C=C, h=h, k=k);\n",
    "display(w)\n",
    "#display(Markdown(f\"${A}x^2+{B}x+{C}$\"))\n",
    "#display(Markdown('**The** first time is $x=\\\\frac{1}{'+str(A)+'}$'))\n",
    "\n"
   ]
  },
  {
   "cell_type": "code",
   "execution_count": 4,
   "metadata": {},
   "outputs": [
    {
     "data": {
      "application/vnd.jupyter.widget-view+json": {
       "model_id": "c19d0da136804ae689b872ac69902e6e",
       "version_major": 2,
       "version_minor": 0
      },
      "text/plain": [
       "Output()"
      ]
     },
     "metadata": {},
     "output_type": "display_data"
    }
   ],
   "source": [
    "import k3d\n",
    "import numpy as np\n",
    "\n",
    "Nx, Ny  = 34, 33\n",
    "xmin, xmax = -3, 4\n",
    "ymin, ymax = -0, 3\n",
    "\n",
    "x = np.linspace(xmin, xmax, Nx)\n",
    "y = np.linspace(ymin, ymax, Ny)\n",
    "x, y = np.meshgrid(x, y)\n",
    "f = np.sin(x**2 + y**2)\n",
    "\n",
    "plot = k3d.plot()\n",
    "plt_surface = k3d.surface(f.astype(np.float32), bounds=[xmin,xmax,ymin,ymax])\n",
    "plot += plt_surface\n",
    "plot.display()"
   ]
  },
  {
   "cell_type": "code",
   "execution_count": 11,
   "metadata": {},
   "outputs": [
    {
     "data": {
      "application/vnd.jupyter.widget-view+json": {
       "model_id": "7bf8c04cc50d4340bcc107eeb019c049",
       "version_major": 2,
       "version_minor": 0
      },
      "text/plain": [
       "interactive(children=(Dropdown(description='color', options=('blue', 'red'), value='blue'), IntSlider(value=5,…"
      ]
     },
     "metadata": {},
     "output_type": "display_data"
    }
   ],
   "source": [
    "# See https://towardsdatascience.com/interactive-graphs-in-python-830b1e6c197f\n",
    "import math\n",
    "import numpy as np\n",
    "import matplotlib.pyplot as plt\n",
    "from matplotlib import figure\n",
    "from ipywidgets import interact\n",
    "\n",
    "def g(x, a, h, k):\n",
    "    return a*np.sqrt(np.abs(x-h))+k#a*x**3+b*x+c\n",
    "    #return a*np.sin(x)#a*np.sqrt(np.abs(math.max(0,x)))#a*x**3+b*x+c\n",
    "\n",
    "@interact\n",
    "def poly(color=['blue', 'red'], a=(1,10), h=(-6,6), k=(-6,6)):\n",
    "    \n",
    "    p = np.linspace(-10, 10, 400)\n",
    "    \n",
    "    y = np.array(list(map(lambda x: g(x, a, h, k), p)))\n",
    "    \n",
    "    blue = True\n",
    "    red = False\n",
    "    \n",
    "    fig, ax = plt.subplots(1, figsize=(8, 8))\n",
    "    fig.suptitle('Example Of Plot With Grid Lines')\n",
    "    \n",
    "    if (color == 'blue'):\n",
    "        ax.plot(p, y, color='blue',linewidth=6)\n",
    "        fig.suptitle('Example Of BLUE Plot With Grid Lines')\n",
    "    else:\n",
    "        ax.plot(p, y, color='red',linewidth=6)\n",
    "        fig.suptitle('Example Of RED Plot With Grid Lines')\n",
    "    \n",
    "    #ax.plot(p, y, color='blue',linewidth=6)\n",
    "    plt.axhline(y=0, color=\"black\", linestyle=\"-\")\n",
    "    plt.axvline(x=0, color=\"black\", linestyle=\"-\")\n",
    "    plt.ylabel('y=f(x)')\n",
    "    plt.xlabel('x')\n",
    "    plt.grid(b=True, which='major', color='#eeeeee', linestyle='-')\n",
    "    plt.xlim(-5, 5)\n",
    "    plt.ylim(-10, 10)\n",
    "    plt.yticks(range(-10,10,2))\n",
    "    plt.title('function f(x)')\n",
    "    return plt.figure()"
   ]
  },
  {
   "cell_type": "code",
   "execution_count": 34,
   "metadata": {},
   "outputs": [
    {
     "data": {
      "application/vnd.jupyter.widget-view+json": {
       "model_id": "969f890e121f43f7afe5e1e5bf515839",
       "version_major": 2,
       "version_minor": 0
      },
      "text/plain": [
       "interactive(children=(Dropdown(description='color', options=('blue', 'red', 'green'), value='blue'), IntSlider…"
      ]
     },
     "metadata": {},
     "output_type": "display_data"
    },
    {
     "data": {
      "text/plain": [
       "<function __main__.polyFactory.<locals>.poly(color, a, h, k)>"
      ]
     },
     "execution_count": 34,
     "metadata": {},
     "output_type": "execute_result"
    }
   ],
   "source": [
    "# See https://towardsdatascience.com/interactive-graphs-in-python-830b1e6c197f\n",
    "import math\n",
    "import numpy as np\n",
    "import matplotlib.pyplot as plt\n",
    "from matplotlib import figure\n",
    "from ipywidgets import interact\n",
    "\n",
    "def g(x, a, h, k):\n",
    "    return a*np.sqrt(np.abs(x-h))+k#a*x**3+b*x+c\n",
    "\n",
    "def plotter(plt, title, color, x, y):\n",
    "    fig, ax = plt.subplots(1, figsize=(8, 8))\n",
    "    fig.suptitle(title)\n",
    "    if (color == 'blue'):\n",
    "        ax.plot(x, y, color='blue',linewidth=6)\n",
    "    else:\n",
    "        ax.plot(x, y, color='red',linewidth=6)\n",
    "\n",
    "    #ax.plot(p, y, color='blue',linewidth=6)\n",
    "    plt.axhline(y=0, color=\"black\", linestyle=\"-\")\n",
    "    plt.axvline(x=0, color=\"black\", linestyle=\"-\")\n",
    "    plt.ylabel('y=f(x)')\n",
    "    plt.xlabel('x')\n",
    "    plt.grid(b=True, which='major', color='#eeeeee', linestyle='-')\n",
    "    plt.xlim(-5, 5)\n",
    "    plt.ylim(-10, 10)\n",
    "    plt.yticks(range(-10,10,2))\n",
    "    plt.title('function f(x)')\n",
    "    return plt.figure()\n",
    "\n",
    "\n",
    "def polyFactory(func, title, x):\n",
    "    \n",
    "    def poly(color, a, h, k):\n",
    "    \n",
    "        y = np.array(list(map(lambda x: func(x, a, h, k), x)))\n",
    "\n",
    "        return plotter(plt, title, color, x, y)\n",
    "    \n",
    "    return poly\n",
    "\n",
    "my_poly = polyFactory(func=g, title='Example of a Plot', x=np.linspace(-10, 10, 400))\n",
    "\n",
    "interact(my_poly, color=['blue', 'red', 'green'], a=(1,10), h=(-6,6), k=(-6,6))"
   ]
  }
 ],
 "metadata": {
  "kernelspec": {
   "display_name": "Python 3",
   "language": "python",
   "name": "python3"
  },
  "language_info": {
   "codemirror_mode": {
    "name": "ipython",
    "version": 3
   },
   "file_extension": ".py",
   "mimetype": "text/x-python",
   "name": "python",
   "nbconvert_exporter": "python",
   "pygments_lexer": "ipython3",
   "version": "3.7.6"
  }
 },
 "nbformat": 4,
 "nbformat_minor": 4
}
