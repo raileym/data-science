{
 "cells": [
  {
   "cell_type": "code",
   "execution_count": 43,
   "metadata": {},
   "outputs": [
    {
     "data": {
      "text/html": [
       "\n",
       "<style>\n",
       ".cell .inner_cell {\n",
       "    font-size: 18px;\n",
       "    line-height: 1.0em;\n",
       "}\n",
       ".MathJax_Display,\n",
       ".MathJax,\n",
       ".alert {\n",
       "    font-size: 18px;\n",
       "}\n",
       ".rendered_html hr {\n",
       "    height:0.5em;\n",
       "    background-color: rgba(175,175,175,0.2);\n",
       "    width: 50%;\n",
       "    margin: 1em auto;\n",
       "}\n",
       "center {\n",
       "    margin-top: 1em;\n",
       "}\n",
       ".alert.alert-blank {\n",
       "    border:0.5px solid black;\n",
       "    padding:1em;\n",
       "}\n",
       ".alert > p {\n",
       "    margin-top:1em;\n",
       "}\n",
       ".alert > center {\n",
       "    margin-top:0;\n",
       "    margin-bottom:1em;\n",
       "}\n",
       "}\n",
       "</style>\n"
      ],
      "text/plain": [
       "<IPython.core.display.HTML object>"
      ]
     },
     "execution_count": 43,
     "metadata": {},
     "output_type": "execute_result"
    }
   ],
   "source": [
    "from IPython.display import HTML\n",
    "\n",
    "HTML('''\n",
    "<style>\n",
    ".cell .inner_cell {\n",
    "    font-size: 18px;\n",
    "    line-height: 1.0em;\n",
    "}\n",
    ".MathJax_Display,\n",
    ".MathJax,\n",
    ".alert {\n",
    "    font-size: 18px;\n",
    "}\n",
    ".rendered_html hr {\n",
    "    height:0.5em;\n",
    "    background-color: rgba(175,175,175,0.2);\n",
    "    width: 50%;\n",
    "    margin: 1em auto;\n",
    "}\n",
    "center {\n",
    "    margin-top: 1em;\n",
    "}\n",
    ".alert.alert-blank {\n",
    "    border:0.5px solid black;\n",
    "    padding:1em;\n",
    "}\n",
    ".alert > p {\n",
    "    margin-top:1em;\n",
    "}\n",
    ".alert > center {\n",
    "    margin-top:0;\n",
    "    margin-bottom:1em;\n",
    "}\n",
    "}\n",
    "</style>\n",
    "''')"
   ]
  },
  {
   "cell_type": "markdown",
   "metadata": {},
   "source": [
    "See https://www.people.vcu.edu/~rhammack/BookOfProof/"
   ]
  },
  {
   "cell_type": "markdown",
   "metadata": {},
   "source": [
    "<div class='alert alert-blank'>\n",
    "<center><strong>Definition 1.1</strong></center>\n",
    "\n",
    "An <strong>ORDERED PAIR</strong> is a list $(x,y)$ of two things $x$ and $y$, enclosed in parentheses and separated by a comma.\n",
    "</div>"
   ]
  },
  {
   "cell_type": "markdown",
   "metadata": {},
   "source": [
    "<div class='alert alert-blank'>\n",
    "    <center><strong>Definition 1.2</strong></center>\n",
    "    \n",
    "The <strong>CARTESIAN PRODUCT</strong> of two sets $A$ and $B$ is another set, denoted as $A \\times B$ and defined as \n",
    "    \n",
    "$$A \\times B = \\{ (a,b) : a \\in A, b \\in B\\}.$$\n",
    "</div>"
   ]
  },
  {
   "cell_type": "markdown",
   "metadata": {},
   "source": [
    "<div class='alert alert-blank'>\n",
    "<center><strong>Definition 1.3</strong></center>\n",
    "\n",
    "Given two sets $A$ and $B$, if every element of set $A$ is also an element of set $B$, then we say $A$ is a <strong>SUBSET</strong> of $B$, and we write,\n",
    "\n",
    "$$A \\subseteq B \\ \\ \\equiv \\ \\ \\{x | x \\in A \\rightarrow x \\in B\\}$$\n",
    "\n",
    "Given two sets $A$ and $B$, if there is at least one element of set $A$ that is not an element of set $B$, then we say $A$ is <strong>NOT A SUBSET</strong> of $B$, and we write,\n",
    "\n",
    "$$A \\nsubseteq B \\ \\ \\equiv \\ \\ \\{x | x \\in A \\rightarrow x \\notin B\\}. \\text{ HELP HELP }$$\n",
    "</div>"
   ]
  },
  {
   "cell_type": "markdown",
   "metadata": {},
   "source": [
    "### Definitions\n",
    "\n",
    "- A SET may be viewed as an well-defined collection of objects.\n",
    "\n",
    "- A SET is a collection of things.\n",
    "\n",
    "----\n",
    "\n",
    "- The objects are called ELEMENTS or MEMBERS of the set.\n",
    "\n",
    "- The things are called ELEMENTS of the set.\n",
    "\n",
    "----\n",
    "\n",
    "- Use UPPER-CASE LETTERS to denote sets: $A, B, X, Y$.\n",
    "\n",
    "----\n",
    "\n",
    "- Use LOWER-CASE LETTERS denote elements of a set: $a, b, x, y$.\n",
    "\n",
    "----\n",
    "\n",
    "- Describe a set by TABULAR FORM using braces and commas, as in\n",
    "\n",
    "$$A = \\{ a, b, c, d \\}$$\n",
    "\n",
    "- Express a set by listing its elements between commas, enclosed by braces.\n",
    "\n",
    "$$A = \\{ a, b, c, d \\}$$\n",
    "\n",
    "----\n",
    "\n",
    "- Describe a set by STATING THE PROPERTIES that characterize the elements in the set, as in\n",
    "\n",
    "$$B = \\{x | x \\text{ is an even number}, x \\ge 0 \\}, \\text{ which reads }$$\n",
    "\n",
    "<center>B is the set of $x$ such that $x$ is an even integer and $x \\gt 0$.</center>\n",
    "    \n",
    "----\n",
    "\n",
    "- Some sets have an infinite number of elements. Use \"...\" to denote a pattern of numbers that continues forever, e.g.,\n",
    "\n",
    "$$C = \\{ ..., -3, -2, -1, 0, 1, 2, 3, ... \\}.$$\n",
    "\n",
    "----\n",
    "\n",
    "- A set is called an INFINITE SET if it has infinitely many elements; otherwise, the set is called a FINITE SET.\n",
    "\n",
    "----\n",
    "\n",
    "- Two SETS ARE EQUAL if they contain the same elements, e.g.,\n",
    "\n",
    "$$\\{2, 4, 6, 8\\} = \\{4, 6, 8, 2\\}.$$\n",
    "\n",
    "----\n",
    "\n",
    "- Some sets are so significant that they have reserved special symbols to identify them:\n",
    "  \n",
    "  - $\\mathbb{N}$ denotes the set of nonnegative integers $\\{0, 1, 2, 3, 4, ...\\}.$\n",
    "  - $\\mathbb{P}$ denotes the set of postive integers $\\{1, 2, 3, 4, ...\\}.$\n",
    "  - $\\mathbb{Z}$ denotes the set of Integers $\\{..., -3, -2, -1, 0, 1, 2, 3, ...\\}.$\n",
    "  - $\\mathbb{Q}$ denotes the set of rational numbers $\\{ x = m/n | m,n \\in \\mathbb{Z}, n \\ne 0\\}.$\n",
    "  - $\\mathbb{R}$ denotes the set of real numbers.\n",
    "  - $\\mathbb{C}$ denotes the set of complex numbers.\n",
    "  \n",
    "----\n",
    "  \n",
    "- If a set $X$ is finite, its CARDINALITY or SIZE is the number of elements in the set. This number is denoted as $|X|.$\n",
    "\n",
    "----\n",
    "\n",
    "- The EMPTY SET is the set $\\{ \\ \\}$ that has no elements. The empty set is denoted as $\\emptyset.$\n",
    "\n",
    "----\n",
    "\n",
    "- Set Build Notation is a means to describe a set. Consider the set of even numbers,\n",
    "\n",
    "$$\n",
    "\\begin{align}\n",
    "E \\ \\ = & \\ \\ \\{ ..., -4, -2, 0, 2, 4, 6, ... \\} \\\\\n",
    "      = & \\ \\ \\{ 2n : n \\in \\mathbb{Z} \\}        \\\\\n",
    "      = & \\ \\ \\{ n : n = 2k, k \\in \\mathbb{Z} \\} \\\\\n",
    "      = & \\ \\ \\{ n \\in \\mathbb{Z} : n \\text{ is even } \\}\n",
    "\\end{align}\n",
    "$$\n",
    "\n",
    "<center>The final description reads, $E$ is the set of all numbers $n$ in $\\mathbb{Z}$ such that $n$ is even.</center>"
   ]
  },
  {
   "cell_type": "markdown",
   "metadata": {},
   "source": [
    "### Ordered Pair and Triple"
   ]
  },
  {
   "cell_type": "markdown",
   "metadata": {},
   "source": [
    "- An ORDERED PAIR is a list $(x,y)$ of two things $x$ and $y,$ enclosed in parentheses and separated by a comma.\n",
    "\n",
    "----"
   ]
  },
  {
   "cell_type": "markdown",
   "metadata": {},
   "source": [
    "- An ORDERED TRIPLE is a list $(x,y,z).$\n",
    "\n",
    "----"
   ]
  },
  {
   "cell_type": "markdown",
   "metadata": {},
   "source": [
    "### Cartesian Product"
   ]
  },
  {
   "cell_type": "markdown",
   "metadata": {},
   "source": [
    "- The CARTESIAN PRODUCT of two sets $A$ and $B$ is another set, denoted as $A \\times B$ and defined as,\n",
    "\n",
    "$$A \\times B = \\{ (a,b) : a \\in A, b \\in B \\}$$\n",
    "\n",
    "----"
   ]
  },
  {
   "cell_type": "markdown",
   "metadata": {},
   "source": [
    "- If $A$ and $B$ are finite sets, then $|A \\times B| = |A| \\cdot |B|.$\n",
    "\n",
    "----"
   ]
  },
  {
   "cell_type": "markdown",
   "metadata": {},
   "source": [
    "- More generally,\n",
    "\n",
    "$$\n",
    "A_1 \\times A_2 \\times \\ ... \\ \\times A_n = \\{ (x_1, x_2, ..., x_n) : x_i \\in A_i \\text{ for each } i=1, 2, ..., n \\}\n",
    "$$"
   ]
  },
  {
   "cell_type": "markdown",
   "metadata": {},
   "source": [
    "### Cartesian Power"
   ]
  },
  {
   "cell_type": "markdown",
   "metadata": {},
   "source": [
    "----\n",
    "\n",
    "- For any set $A$ and positive integer $n$, the CARTESIAN POWER $A^n$ is given by\n",
    "\n",
    "$$\n",
    "A \\times A \\times A \\times \\ ... \\ \\times A = \\{ (x_1, x_2, ..., x_n) : x_1, x_2, ..., x_n \\in A \\}\n",
    "$$"
   ]
  },
  {
   "cell_type": "markdown",
   "metadata": {},
   "source": [
    "- The cartesian power $\\mathbb{R}^2$ is the standard cartesian plane.\n",
    "\n",
    "----"
   ]
  },
  {
   "cell_type": "markdown",
   "metadata": {},
   "source": [
    "- The cartesian power $\\mathbb{R}^3$ is three-dimensional space.\n",
    "\n",
    "----"
   ]
  },
  {
   "cell_type": "markdown",
   "metadata": {},
   "source": [
    "- The cartesian power \n",
    "\n",
    "----"
   ]
  },
  {
   "cell_type": "markdown",
   "metadata": {},
   "source": [
    "### Subsets and Equivalence"
   ]
  },
  {
   "cell_type": "markdown",
   "metadata": {},
   "source": [
    "- Given two sets $A$ and $B$, if every element of set $A$ is also an element of set $B$, then we say $A$ is a subset of $B$, and we write,\n",
    "\n",
    "$$A \\subseteq B \\ \\ \\equiv \\ \\ \\{x | x \\in A \\rightarrow x \\in B\\}$$\n",
    "\n",
    "----"
   ]
  },
  {
   "cell_type": "markdown",
   "metadata": {},
   "source": [
    "- Given two sets $A$ and $B$, if every element of set $A$ is also an element of set $B$ and if every element in $B$ is an element of $A$, then we say $A$ equals $B$, and we write,\n",
    "\n",
    "$$\n",
    "\\begin{align}\n",
    "A = B & \\ \\ \\equiv \\ \\ A \\subseteq B \\text{ and } B \\subseteq A \\\\\n",
    "      & \\ \\ \\equiv \\ \\ \\{ x \\in A \\leftrightarrow x \\in B \\}    \\\\\n",
    "      & \\ \\ \\equiv \\ \\ \\{ ( x \\in A \\rightarrow x \\in B )\\land (x \\in B \\rightarrow x \\in A)\\}.\n",
    "\\end{align}\n",
    "$$\n",
    "\n",
    "----"
   ]
  },
  {
   "cell_type": "markdown",
   "metadata": {},
   "source": [
    "- Given two sets $A$ and $B$, if every element of set $A$ is also an element of set $B$ but $A$ is not equal to $B$, then we say $A$ is a PROPER SUBSET of $B$, and we write,\n",
    "\n",
    "$$A \\subset B \\ \\ \\equiv \\ \\ A \\subseteq B \\text{ and } A \\neq B.$$\n",
    "\n",
    "----"
   ]
  },
  {
   "cell_type": "markdown",
   "metadata": {},
   "source": [
    "- Given two sets $A$ and $B$, if there is at least one element of set $A$ that is not an element of set $B$, then we say $A$ is NOT A SUBSET of $B$, and we write,\n",
    "\n",
    "$$A \\nsubseteq B.$$\n",
    "\n",
    "----"
   ]
  },
  {
   "cell_type": "markdown",
   "metadata": {},
   "source": [
    "- The empty set $\\emptyset$ is a subset of all sets, that is, the empty set $\\emptyset$ is a subset of any set $A$,\n",
    "\n",
    "$$\\emptyset \\subseteq A$$\n",
    "\n",
    "----"
   ]
  },
  {
   "cell_type": "markdown",
   "metadata": {},
   "source": [
    "- The universal set $U$ is a SUPERSET of every set $A$,\n",
    "\n",
    "$$A \\subseteq U$$\n",
    "\n",
    "----"
   ]
  },
  {
   "cell_type": "markdown",
   "metadata": {},
   "source": [
    "- Every set $A$ is a subset of itself,\n",
    "\n",
    "$$A \\subseteq A$$\n",
    "\n",
    "----"
   ]
  },
  {
   "cell_type": "markdown",
   "metadata": {},
   "source": [
    "- If a finite set has $n$ elements, then it has $2^n$ subsets.\n",
    "\n",
    "----"
   ]
  },
  {
   "cell_type": "markdown",
   "metadata": {},
   "source": [
    "### Power Sets"
   ]
  },
  {
   "cell_type": "markdown",
   "metadata": {},
   "source": [
    "- If $A$ is a set, then we say the POWER SET of $A$ is the set of all subsets of $A$, and we write\n",
    "\n",
    "$$\\mathscr{P}(A) = \\{ X : X \\subseteq A \\}$$"
   ]
  },
  {
   "cell_type": "markdown",
   "metadata": {},
   "source": [
    "- If $A$ is a finite set, then the cardinality of its powerset $\\mathscr{P}$ is given by\n",
    "\n",
    "$$| \\mathscr{P} | = 2^{|A|}$$"
   ]
  },
  {
   "cell_type": "markdown",
   "metadata": {},
   "source": [
    "- For example, if $A = {1, 2, 3}$, then its power set $\\mathscr{P}(A)$ is given by\n",
    "\n",
    "$$\\mathscr{P}(A) = \\{ \\emptyset , \\{ 1 \\}, \\{ 2 \\}, \\{ 3 \\}, \\{ 1, 2\\}, \\{ 1, 3\\}, \\{ 2, 3\\}, \\{ 1, 2, 3 \\} \\}$$"
   ]
  },
  {
   "cell_type": "markdown",
   "metadata": {},
   "source": [
    "### Disjoint Sets\n",
    "\n",
    "- Two sets $A$ and $B$ are DISJOINT if they have no elements in common,\n",
    "\n",
    "$$A = \\{x|x \\in A \\rightarrow x\\notin B\\}, $$ and\n",
    "\n",
    "$$B = \\{y|y \\in B \\rightarrow y\\notin A\\}.$$\n",
    "\n",
    "----"
   ]
  },
  {
   "cell_type": "markdown",
   "metadata": {},
   "source": [
    "$A \\cup B = \\{x | x \\in A \\text{ or } x \\in B \\}$\n",
    "\n",
    "----"
   ]
  },
  {
   "cell_type": "markdown",
   "metadata": {},
   "source": [
    "$A \\cap B = \\{x | x \\in A \\text{ and } x \\in B \\}$\n",
    "\n",
    "----"
   ]
  },
  {
   "cell_type": "markdown",
   "metadata": {},
   "source": [
    "### Theorem 1.1 \n",
    "\n",
    "(i) For any set $A$, we have $\\varnothing \\subseteq A \\subseteq U$.\n",
    "\n",
    "(ii) For any set $A$, we have $A \\subseteq A$.\n",
    "\n",
    "(iii) if $A \\subseteq B$ and $B \\subseteq C$, then $A \\subseteq C$.\n",
    "\n",
    "(iv) $A = B$ if and only if $A \\subseteq B$ and $B \\subseteq A$."
   ]
  },
  {
   "cell_type": "markdown",
   "metadata": {},
   "source": [
    "### Theorem 1.2\n",
    "\n",
    "For any sets $A$ and $B$, we have\n",
    "\n",
    "$$A \\cap B \\subseteq A \\subseteq A \\cup B$$\n",
    "\n",
    "and \n",
    "\n",
    "$$A \\cap B \\subseteq B \\subseteq A \\cup B.$$\n",
    "\n"
   ]
  },
  {
   "cell_type": "markdown",
   "metadata": {},
   "source": [
    "### Theorem 1.3\n",
    "\n",
    "The following are equivalent:\n",
    "\n",
    "$$A \\subseteq B \\ \\ \\ \\ \\ \\equiv \\ \\ \\ \\ \\ A \\cap B = A \\ \\ \\ \\ \\ \\equiv \\ \\ \\ \\ \\ A \\cup B = B$$\n",
    "\n",
    "$$A \\cap B' = \\emptyset \\ \\ \\ \\ \\ \\equiv \\ \\ \\ \\ \\ A^c \\cup B = U \\ \\ \\ \\ \\ \\equiv \\ \\ \\ \\ \\ B^c \\subseteq A^c$$"
   ]
  },
  {
   "cell_type": "markdown",
   "metadata": {},
   "source": [
    "## Prove\n",
    "\n",
    "Given, $A_1 \\subseteq A_2$, prove $A_2 = A_1 \\cup (A_2 - A_1)$ where $A_1$ and $A_2 - A_1$ are mutually exclusive.\n",
    "\n",
    "#### Proof\n",
    "\n",
    "Given $A_1 \\subseteq A_2$. Let $x \\in A_1$. Then $x \\in A_2$.  Now, suppose $A_1 \\cup (A_2 - A_1)$. Then, \n",
    "\n",
    "$$\n",
    "\\begin{align}\n",
    "A_1 \\cup (A_2 - A_1) \\equiv & \\  \\{x|x \\in A_1 \\lor x \\in (A_2 - A_1)\\} \\\\\n",
    "                     \\equiv & \\  \\{x|x \\in A_1 \\lor x \\in (A_2 \\cap A_1')\\} \\\\\n",
    "                     \\equiv & \\  \\{x|x \\in A_1 \\lor ( x \\in A_2 \\land x \\in A_1')\\} \\\\\n",
    "                     \\equiv & \\  \\{x|x \\in A_1 \\lor x \\in A_2) \\land (x \\in A_1 \\lor x \\in A_1')\\} \\\\\n",
    "                     \\equiv & \\  \\{x|x \\in A_1 \\lor x \\in A_2\\}\n",
    "\\end{align}\n",
    "$$\n",
    "\n",
    "In either case, $x \\in A_2$, whether directly from above or by the given $A_1 \\subseteq A_2$. Therefore,\n",
    "\n",
    "$$\n",
    "\\begin{align}\n",
    "A_1 \\cup (A_2 - A_1) \\equiv & \\  \\{x|x \\in A_2\\} \\\\\n",
    "                     \\equiv & \\  A_2.\n",
    "\\end{align}\n",
    "$$\n",
    "\n",
    "Now suppose $A_2$. Let $x \\in A_2$. **HELP HERE**"
   ]
  },
  {
   "cell_type": "markdown",
   "metadata": {},
   "source": [
    "$$\n",
    "\\begin{align}\n",
    "a = \\frac{1}{2} && b = \\frac{1}{3} && c = \\frac{1}{4} \\\\\n",
    "a && b && c\n",
    "\\end{align}\n",
    "$$"
   ]
  }
 ],
 "metadata": {
  "kernelspec": {
   "display_name": "Python 3",
   "language": "python",
   "name": "python3"
  },
  "language_info": {
   "codemirror_mode": {
    "name": "ipython",
    "version": 3
   },
   "file_extension": ".py",
   "mimetype": "text/x-python",
   "name": "python",
   "nbconvert_exporter": "python",
   "pygments_lexer": "ipython3",
   "version": "3.7.6"
  }
 },
 "nbformat": 4,
 "nbformat_minor": 4
}
