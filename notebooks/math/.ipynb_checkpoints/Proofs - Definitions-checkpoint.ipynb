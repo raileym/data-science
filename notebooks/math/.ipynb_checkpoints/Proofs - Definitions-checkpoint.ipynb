{
 "cells": [
  {
   "cell_type": "code",
   "execution_count": 2,
   "metadata": {},
   "outputs": [
    {
     "data": {
      "text/html": [
       "<style>.cell .inner_cell {\n",
       "    font-size: 18px;\n",
       "    line-height: 1.0em;\n",
       "}\n",
       ".MathJax_Display,\n",
       ".MathJax,\n",
       ".alert {\n",
       "    font-size: 18px;\n",
       "}\n",
       ".rendered_html hr {\n",
       "    height:0.5em;\n",
       "    background-color: rgba(175,175,175,0.2);\n",
       "    width: 50%;\n",
       "    margin: 1em auto;\n",
       "}\n",
       "center {\n",
       "    margin-top: 1em;\n",
       "}\n",
       ".alert.alert-blank {\n",
       "    border:0.5px solid black;\n",
       "    padding:1em;\n",
       "}\n",
       ".alert > p {\n",
       "    margin-top:1em;\n",
       "}\n",
       ".alert > center {\n",
       "    margin-top:0;\n",
       "    margin-bottom:1em;\n",
       "}\n",
       "}\n",
       "</style>"
      ],
      "text/plain": [
       "<IPython.core.display.HTML object>"
      ]
     },
     "execution_count": 2,
     "metadata": {},
     "output_type": "execute_result"
    }
   ],
   "source": [
    "from IPython.display import HTML\n",
    "HTML('<style>{}</style>'.format(open('raileym.css').read()))"
   ]
  },
  {
   "cell_type": "markdown",
   "metadata": {},
   "source": [
    "#### References\n",
    "\n",
    "- [1] https://www.people.vcu.edu/~rhammack/BookOfProof/\n",
    "- [2] https://courses.csail.mit.edu/6.042/spring17/mcs.pdf\n",
    "- [3] https://www.d.umn.edu/~jgallian/Proofs.html"
   ]
  },
  {
   "cell_type": "markdown",
   "metadata": {},
   "source": [
    "<div class='alert alert-blank'>\n",
    "<center><strong>Nomenclature [2]</strong></center>\n",
    "\n",
    "The statement,\n",
    "    \n",
    "$$\\forall n \\in \\mathbb{N}. p(n) \\text{ is prime, }$$\n",
    "    \n",
    "reads, \"for all numbers $n$ that are elements of the set of Natural Numbers $\\mathbb{N}$, the function $p(n)$ is a prime number,\" where\n",
    "\n",
    "- $\\forall$ is read as \"for all,\"\n",
    "- $\\in$ is read as \"is a member,\"\n",
    "- $\\mathbb{N}$ is the set of Natural Numbers, and\n",
    "- the period \".\" is just a separator between phrases.\n",
    "</div>"
   ]
  },
  {
   "cell_type": "markdown",
   "metadata": {},
   "source": [
    "<div class='alert alert-blank'>\n",
    "<center><strong>Nomenclature Example [2]</strong></center>\n",
    "\n",
    "**Conjecture.** [Euler] _The equation_\n",
    "\n",
    "$$a^4 + b^4 + c^4 = d^4$$\n",
    "\n",
    "_has no solution when $a, b, c, d$ are positive integers._\n",
    "\n",
    "----\n",
    "    \n",
    "This conjecture could be expressed in logical notation as,\n",
    "\n",
    "$$\n",
    "\\forall a \\in \\mathbb{Z}^+ \n",
    "\\forall b \\in \\mathbb{Z}^+ \n",
    "\\forall c \\in \\mathbb{Z}^+ \n",
    "\\forall d \\in \\mathbb{Z}^+. \n",
    "a^4 + b^4 + c^4 \\ne d^4,\n",
    "$$\n",
    "\n",
    "where $\\mathbb{Z}^+$ is a symbol for positive integers. A string of $\\forall$'s can be abbreviated as,\n",
    "\n",
    "$$\n",
    "\\forall a, b, c, d \\in \\mathbb{Z}^+. \n",
    "a^4 + b^4 + c^4 \\ne d^4.\n",
    "$$\n",
    "</div>"
   ]
  },
  {
   "cell_type": "markdown",
   "metadata": {},
   "source": [
    "<div class='alert alert-blank'>\n",
    "<center><strong>Definition [2]</strong></center>\n",
    "\n",
    "A **MATHEMATICAL PROOF** of a _proposition_ is a chain of _logical deductions_ leading to the proposition from a base set of _axioms_.\n",
    "</div>"
   ]
  },
  {
   "cell_type": "code",
   "execution_count": null,
   "metadata": {},
   "outputs": [],
   "source": []
  },
  {
   "cell_type": "markdown",
   "metadata": {},
   "source": [
    "<div class='alert alert-blank'>\n",
    "<center><strong>Definition [2]</strong></center>\n",
    "\n",
    "A **PROPOSITION** is a statement (communication) that is either true or false.\n",
    "</div>"
   ]
  },
  {
   "cell_type": "markdown",
   "metadata": {},
   "source": [
    "<div class='alert alert-blank'>\n",
    "<center><strong>Definition [2]</strong></center>\n",
    "\n",
    "A **PREDICATE** is a proposition whose truth depends on the value of one or more variables.\n",
    "</div>"
   ]
  },
  {
   "cell_type": "markdown",
   "metadata": {},
   "source": [
    "<div class='alert alert-blank'>\n",
    "<center><strong>Predicate Example [2]</strong></center>\n",
    "\n",
    "Like other propositions, predicates are often named with a letter. Furthermore, a\n",
    "function-like notation is used to denote a predicate supplied with specific variable\n",
    "values. For example, we might use the name \"P\" for the predicate, $n$ _is a perfect square_, and write the expression,\n",
    "\n",
    "$$P(n) ::= \\text{\"}n\\text{ is a perfect square.\"}$$\n",
    "\n",
    "A predicate, like a proposition, is either true or false: $P(4)$ is true, while $P(5)$ is false.\n",
    "\n",
    "</div>"
   ]
  },
  {
   "cell_type": "markdown",
   "metadata": {},
   "source": [
    "<div class='alert alert-blank'>\n",
    "<center><strong>Definition [2]</strong></center>\n",
    "\n",
    "An **AXIOM** is a proposition that is simply accepted as true.\n",
    "</div>"
   ]
  },
  {
   "cell_type": "markdown",
   "metadata": {},
   "source": [
    "<div class='alert alert-blank'>\n",
    "<center><strong>Definition [2]</strong></center>\n",
    "\n",
    "- Important true propositions are called **THEOREMS**.\n",
    "- A **LEMMA** is a preliminary proposition useful for proving later propositions.\n",
    "- A **COROLLARY** is a proposition that follows in just a few logical steps from a\n",
    "theorem.\n",
    "</div>"
   ]
  },
  {
   "cell_type": "markdown",
   "metadata": {},
   "source": [
    "<div class='alert alert-blank'>\n",
    "<center><strong>Logical Deductions [2]</strong></center>\n",
    "\n",
    "Logical deductions, or **inference rules**, are used to prove new propositions using\n",
    "previously proved ones.\n",
    "</div>"
   ]
  },
  {
   "cell_type": "markdown",
   "metadata": {},
   "source": [
    "<div class='alert alert-blank'>\n",
    "<center><strong>Inference Rules [2]</strong></center>\n",
    "\n",
    "A fundamental inference rule is **MODUS PONENS**. This rule says that a proof of $P$\n",
    "together with a proof that $P$ IMPLIES $Q$ is a proof of $Q.$\n",
    "</div>"
   ]
  },
  {
   "cell_type": "markdown",
   "metadata": {},
   "source": [
    "<div class='alert alert-blank'>\n",
    "<center><strong>Inference Rules: Modus Ponens [2]</strong></center>\n",
    "\n",
    "The inference rule Modus Ponens says that a proof of $P$\n",
    "together with a proof that $P$ IMPLIES $Q$ is a proof of $Q.$ Modus Ponens can be written as\n",
    "\n",
    "$$\\frac{P, P {\\scriptstyle\\texttt{ IMPLIES }} Q}{Q}$$\n",
    "    \n",
    "When the statements above the line, called the **antecedents**, are proved, then we\n",
    "can consider the statement below the line, called the **conclusion** or **consequent**, to\n",
    "also be proved.\n",
    "</div>"
   ]
  },
  {
   "cell_type": "markdown",
   "metadata": {},
   "source": [
    "<div class='alert alert-blank'>\n",
    "<center><strong>Inference Rules: ???NAME??? [2]</strong></center>\n",
    "\n",
    "$$\\frac\n",
    "{P {\\scriptstyle\\texttt{ IMPLIES }} Q, \\ \\ P {\\scriptstyle\\texttt{ IMPLIES }} R}\n",
    "{P {\\scriptstyle\\texttt{ IMPLIES }} R}\n",
    "$$\n",
    "</div>"
   ]
  },
  {
   "cell_type": "markdown",
   "metadata": {},
   "source": [
    "<div class='alert alert-blank'>\n",
    "<center><strong>Inference Rules: ???NAME??? [2]</strong></center>\n",
    "\n",
    "$$\\frac\n",
    "{{\\scriptstyle\\texttt{NOT}}(P) {\\scriptstyle\\texttt{ IMPLIES }} {\\scriptstyle\\texttt{NOT}}(Q)}\n",
    "{Q {\\scriptstyle\\texttt{ IMPLIES }} P}\n",
    "$$\n",
    "</div>"
   ]
  },
  {
   "cell_type": "markdown",
   "metadata": {},
   "source": [
    "<div class='alert alert-blank'>\n",
    "<center><strong>Implication [2]</strong></center>\n",
    "\n",
    "Given a proposition\n",
    "    \n",
    "<center>If $P$, then $Q$</center>\n",
    "    \n",
    "Rephrase this proposition as\n",
    "    \n",
    "<center>$P {\\scriptstyle\\texttt{ IMPLIES }} Q$</center>\n",
    "</div>"
   ]
  },
  {
   "cell_type": "markdown",
   "metadata": {},
   "source": [
    "<div class='alert alert-blank'>\n",
    "<center><strong>Proof Method #1 - Prove the Conditional [2]</strong></center>\n",
    "\n",
    "In order to prove that $P {\\scriptstyle\\texttt{ IMPLIES }} Q$:\n",
    "    \n",
    "   1. Write, “Assume P.”\n",
    "   2. Show that Q logically follows.\n",
    "    \n",
    "</div>"
   ]
  },
  {
   "cell_type": "markdown",
   "metadata": {},
   "source": [
    "<div class='alert alert-blank'>\n",
    "<center><strong>Proof Method #2 - Prove the Contrapositive [2]</strong></center>\n",
    "\n",
    "Rewrite the conditional,\n",
    "    \n",
    "$$P \\rightarrow Q$$\n",
    "    \n",
    "as the contrapositive\n",
    "    \n",
    "$$\\neg Q \\rightarrow \\neg P.$$\n",
    "    \n",
    "Now, prove the contrapositive.\n",
    "    \n",
    "   1. Write, \"We prove the contrapositive:\" and then state the contrapositive.\n",
    "   2. Write, \"Assume $\\neg Q$.\"\n",
    "   3. Show that $\\neg P$ logically follows.\n",
    "    \n",
    "</div>"
   ]
  },
  {
   "cell_type": "markdown",
   "metadata": {},
   "source": [
    "<div class='alert alert-blank'>\n",
    "<center><strong>Proof Method #1 - Proving an \"If and Only If\" proposition [2]</strong></center>\n",
    "\n",
    "Rewrite the proposition,\n",
    "    \n",
    "$$P \\leftrightarrow Q$$\n",
    "    \n",
    "as two propositions,\n",
    "    \n",
    "$$P \\rightarrow Q \\ \\ \\text{ and } \\ \\ Q \\rightarrow P$$\n",
    "    \n",
    "Now, prove the contrapositive.\n",
    "    \n",
    "   1. Write, \"We prove $P \\rightarrow Q$ and vice versa.\"\n",
    "   2. Write, \"First, we show $P \\rightarrow Q$.\" Follow a previous method.\n",
    "   3. Write, \"Now, we show $Q \\rightarrow P$.\" Follow a previous method.\n",
    "    \n",
    "</div>"
   ]
  },
  {
   "cell_type": "markdown",
   "metadata": {},
   "source": [
    "<div class='alert alert-blank'>\n",
    "<center><strong>Definition 1.1 [1]</strong></center>\n",
    "\n",
    "An **ORDERED PAIR** is a list $(x,y)$ of two things $x$ and $y$, enclosed in parentheses and separated by a comma.\n",
    "</div>"
   ]
  },
  {
   "cell_type": "markdown",
   "metadata": {},
   "source": [
    "<div class='alert alert-blank'>\n",
    "    <center><strong>Definition 1.2</strong></center>\n",
    "    \n",
    "The **CARTESIAN PRODUCT** of two sets $A$ and $B$ is another set, denoted as $A \\times B$ and defined as \n",
    "    \n",
    "$$A \\times B = \\{ (a,b) : a \\in A, b \\in B\\}.$$\n",
    "</div>"
   ]
  },
  {
   "cell_type": "markdown",
   "metadata": {},
   "source": [
    "<div class='alert alert-blank'>\n",
    "<center><strong>Definition 1.3</strong></center>\n",
    "\n",
    "Given two sets $A$ and $B$, if every element of set $A$ is also an element of set $B$, then we say $A$ is a **SUBSET** of $B$, and we write,\n",
    "\n",
    "$$A \\subseteq B \\ \\ \\equiv \\ \\ \\{x | x \\in A \\rightarrow x \\in B\\}$$\n",
    "\n",
    "Given two sets $A$ and $B$, if there is at least one element of set $A$ that is not an element of set $B$, then we say $A$ is **NOT A SUBSET** of $B$, and we write,\n",
    "\n",
    "$$A \\nsubseteq B \\ \\ \\equiv \\ \\ \\{x | x \\in A \\rightarrow x \\notin B\\}. \\text{ HELP HELP }$$\n",
    "</div>"
   ]
  },
  {
   "cell_type": "markdown",
   "metadata": {},
   "source": [
    "<div class='alert alert-blank'>\n",
    "<center><strong>Definition 4.1</strong></center>\n",
    "\n",
    "An integer $n$ is **even** if $n=2a$ for some integer $a \\in \\mathbb{Z}$\n",
    "</div>"
   ]
  },
  {
   "cell_type": "markdown",
   "metadata": {},
   "source": [
    "<div class='alert alert-blank'>\n",
    "<center><strong>Definition 4.2</strong></center>\n",
    "\n",
    "An integer $n$ is **odd** if $n=2a+1$ for some integer $a \\in \\mathbb{Z}$\n",
    "</div>"
   ]
  },
  {
   "cell_type": "markdown",
   "metadata": {},
   "source": [
    "<div class='alert alert-blank'>\n",
    "<center><strong>Definition 4.3</strong></center>\n",
    "\n",
    "Two integers have the **same parity** if they are both even or odd. Otherwise \n",
    "they have **opposite parity.**\n",
    "</div>"
   ]
  },
  {
   "cell_type": "markdown",
   "metadata": {},
   "source": [
    "<div class='alert alert-blank'>\n",
    "<center><strong>Definition 4.4</strong></center>\n",
    "\n",
    "Suppose $a$ and $b$ are integers. We say that $a$ **divides** $b$, written $a|b$, if $b=ac$ for some $c \\in \\mathbb{Z}.$ In this case we also say that $a$ is a **divisor** of $b$, and that $b$ is a **multiple** of $a.$\n",
    "</div>"
   ]
  },
  {
   "cell_type": "code",
   "execution_count": null,
   "metadata": {},
   "outputs": [],
   "source": []
  },
  {
   "cell_type": "code",
   "execution_count": null,
   "metadata": {},
   "outputs": [],
   "source": []
  },
  {
   "cell_type": "code",
   "execution_count": null,
   "metadata": {},
   "outputs": [],
   "source": []
  },
  {
   "cell_type": "code",
   "execution_count": null,
   "metadata": {},
   "outputs": [],
   "source": []
  },
  {
   "cell_type": "code",
   "execution_count": null,
   "metadata": {},
   "outputs": [],
   "source": []
  },
  {
   "cell_type": "markdown",
   "metadata": {},
   "source": [
    "### Ordered Pair and Triple"
   ]
  },
  {
   "cell_type": "markdown",
   "metadata": {},
   "source": [
    "- An ORDERED PAIR is a list $(x,y)$ of two things $x$ and $y,$ enclosed in parentheses and separated by a comma.\n",
    "\n",
    "----"
   ]
  },
  {
   "cell_type": "markdown",
   "metadata": {},
   "source": [
    "- An ORDERED TRIPLE is a list $(x,y,z).$\n",
    "\n",
    "----"
   ]
  },
  {
   "cell_type": "markdown",
   "metadata": {},
   "source": [
    "### Cartesian Product"
   ]
  },
  {
   "cell_type": "markdown",
   "metadata": {},
   "source": [
    "- The CARTESIAN PRODUCT of two sets $A$ and $B$ is another set, denoted as $A \\times B$ and defined as,\n",
    "\n",
    "$$A \\times B = \\{ (a,b) : a \\in A, b \\in B \\}$$\n",
    "\n",
    "----"
   ]
  },
  {
   "cell_type": "markdown",
   "metadata": {},
   "source": [
    "- If $A$ and $B$ are finite sets, then $|A \\times B| = |A| \\cdot |B|.$\n",
    "\n",
    "----"
   ]
  },
  {
   "cell_type": "markdown",
   "metadata": {},
   "source": [
    "- More generally,\n",
    "\n",
    "$$\n",
    "A_1 \\times A_2 \\times \\ ... \\ \\times A_n = \\{ (x_1, x_2, ..., x_n) : x_i \\in A_i \\text{ for each } i=1, 2, ..., n \\}\n",
    "$$"
   ]
  },
  {
   "cell_type": "markdown",
   "metadata": {},
   "source": [
    "### Cartesian Power"
   ]
  },
  {
   "cell_type": "markdown",
   "metadata": {},
   "source": [
    "----\n",
    "\n",
    "- For any set $A$ and positive integer $n$, the CARTESIAN POWER $A^n$ is given by\n",
    "\n",
    "$$\n",
    "A \\times A \\times A \\times \\ ... \\ \\times A = \\{ (x_1, x_2, ..., x_n) : x_1, x_2, ..., x_n \\in A \\}\n",
    "$$"
   ]
  },
  {
   "cell_type": "markdown",
   "metadata": {},
   "source": [
    "- The cartesian power $\\mathbb{R}^2$ is the standard cartesian plane.\n",
    "\n",
    "----"
   ]
  },
  {
   "cell_type": "markdown",
   "metadata": {},
   "source": [
    "- The cartesian power $\\mathbb{R}^3$ is three-dimensional space.\n",
    "\n",
    "----"
   ]
  },
  {
   "cell_type": "markdown",
   "metadata": {},
   "source": [
    "- The cartesian power \n",
    "\n",
    "----"
   ]
  },
  {
   "cell_type": "markdown",
   "metadata": {},
   "source": [
    "### Subsets and Equivalence"
   ]
  },
  {
   "cell_type": "markdown",
   "metadata": {},
   "source": [
    "- Given two sets $A$ and $B$, if every element of set $A$ is also an element of set $B$, then we say $A$ is a subset of $B$, and we write,\n",
    "\n",
    "$$A \\subseteq B \\ \\ \\equiv \\ \\ \\{x | x \\in A \\rightarrow x \\in B\\}$$\n",
    "\n",
    "----"
   ]
  },
  {
   "cell_type": "markdown",
   "metadata": {},
   "source": [
    "- Given two sets $A$ and $B$, if every element of set $A$ is also an element of set $B$ and if every element in $B$ is an element of $A$, then we say $A$ equals $B$, and we write,\n",
    "\n",
    "$$\n",
    "\\begin{align}\n",
    "A = B & \\ \\ \\equiv \\ \\ A \\subseteq B \\text{ and } B \\subseteq A \\\\\n",
    "      & \\ \\ \\equiv \\ \\ \\{ x \\in A \\leftrightarrow x \\in B \\}    \\\\\n",
    "      & \\ \\ \\equiv \\ \\ \\{ ( x \\in A \\rightarrow x \\in B )\\land (x \\in B \\rightarrow x \\in A)\\}.\n",
    "\\end{align}\n",
    "$$\n",
    "\n",
    "----"
   ]
  },
  {
   "cell_type": "markdown",
   "metadata": {},
   "source": [
    "- Given two sets $A$ and $B$, if every element of set $A$ is also an element of set $B$ but $A$ is not equal to $B$, then we say $A$ is a PROPER SUBSET of $B$, and we write,\n",
    "\n",
    "$$A \\subset B \\ \\ \\equiv \\ \\ A \\subseteq B \\text{ and } A \\neq B.$$\n",
    "\n",
    "----"
   ]
  },
  {
   "cell_type": "markdown",
   "metadata": {},
   "source": [
    "- Given two sets $A$ and $B$, if there is at least one element of set $A$ that is not an element of set $B$, then we say $A$ is NOT A SUBSET of $B$, and we write,\n",
    "\n",
    "$$A \\nsubseteq B.$$\n",
    "\n",
    "----"
   ]
  },
  {
   "cell_type": "markdown",
   "metadata": {},
   "source": [
    "- The empty set $\\emptyset$ is a subset of all sets, that is, the empty set $\\emptyset$ is a subset of any set $A$,\n",
    "\n",
    "$$\\emptyset \\subseteq A$$\n",
    "\n",
    "----"
   ]
  },
  {
   "cell_type": "markdown",
   "metadata": {},
   "source": [
    "- The universal set $U$ is a SUPERSET of every set $A$,\n",
    "\n",
    "$$A \\subseteq U$$\n",
    "\n",
    "----"
   ]
  },
  {
   "cell_type": "markdown",
   "metadata": {},
   "source": [
    "- Every set $A$ is a subset of itself,\n",
    "\n",
    "$$A \\subseteq A$$\n",
    "\n",
    "----"
   ]
  },
  {
   "cell_type": "markdown",
   "metadata": {},
   "source": [
    "- If a finite set has $n$ elements, then it has $2^n$ subsets.\n",
    "\n",
    "----"
   ]
  },
  {
   "cell_type": "markdown",
   "metadata": {},
   "source": [
    "### Power Sets"
   ]
  },
  {
   "cell_type": "markdown",
   "metadata": {},
   "source": [
    "- If $A$ is a set, then we say the POWER SET of $A$ is the set of all subsets of $A$, and we write\n",
    "\n",
    "$$\\mathscr{P}(A) = \\{ X : X \\subseteq A \\}$$"
   ]
  },
  {
   "cell_type": "markdown",
   "metadata": {},
   "source": [
    "- If $A$ is a finite set, then the cardinality of its powerset $\\mathscr{P}$ is given by\n",
    "\n",
    "$$| \\mathscr{P} | = 2^{|A|}$$"
   ]
  },
  {
   "cell_type": "markdown",
   "metadata": {},
   "source": [
    "- For example, if $A = {1, 2, 3}$, then its power set $\\mathscr{P}(A)$ is given by\n",
    "\n",
    "$$\\mathscr{P}(A) = \\{ \\emptyset , \\{ 1 \\}, \\{ 2 \\}, \\{ 3 \\}, \\{ 1, 2\\}, \\{ 1, 3\\}, \\{ 2, 3\\}, \\{ 1, 2, 3 \\} \\}$$"
   ]
  },
  {
   "cell_type": "markdown",
   "metadata": {},
   "source": [
    "### Disjoint Sets\n",
    "\n",
    "- Two sets $A$ and $B$ are DISJOINT if they have no elements in common,\n",
    "\n",
    "$$A = \\{x|x \\in A \\rightarrow x\\notin B\\}, $$ and\n",
    "\n",
    "$$B = \\{y|y \\in B \\rightarrow y\\notin A\\}.$$\n",
    "\n",
    "----"
   ]
  },
  {
   "cell_type": "markdown",
   "metadata": {},
   "source": [
    "$A \\cup B = \\{x | x \\in A \\text{ or } x \\in B \\}$\n",
    "\n",
    "----"
   ]
  },
  {
   "cell_type": "markdown",
   "metadata": {},
   "source": [
    "$A \\cap B = \\{x | x \\in A \\text{ and } x \\in B \\}$\n",
    "\n",
    "----"
   ]
  },
  {
   "cell_type": "markdown",
   "metadata": {},
   "source": [
    "### Theorem 1.1 \n",
    "\n",
    "(i) For any set $A$, we have $\\varnothing \\subseteq A \\subseteq U$.\n",
    "\n",
    "(ii) For any set $A$, we have $A \\subseteq A$.\n",
    "\n",
    "(iii) if $A \\subseteq B$ and $B \\subseteq C$, then $A \\subseteq C$.\n",
    "\n",
    "(iv) $A = B$ if and only if $A \\subseteq B$ and $B \\subseteq A$."
   ]
  },
  {
   "cell_type": "markdown",
   "metadata": {},
   "source": [
    "### Theorem 1.2\n",
    "\n",
    "For any sets $A$ and $B$, we have\n",
    "\n",
    "$$A \\cap B \\subseteq A \\subseteq A \\cup B$$\n",
    "\n",
    "and \n",
    "\n",
    "$$A \\cap B \\subseteq B \\subseteq A \\cup B.$$\n",
    "\n"
   ]
  },
  {
   "cell_type": "markdown",
   "metadata": {},
   "source": [
    "### Theorem 1.3\n",
    "\n",
    "The following are equivalent:\n",
    "\n",
    "$$A \\subseteq B \\ \\ \\ \\ \\ \\equiv \\ \\ \\ \\ \\ A \\cap B = A \\ \\ \\ \\ \\ \\equiv \\ \\ \\ \\ \\ A \\cup B = B$$\n",
    "\n",
    "$$A \\cap B' = \\emptyset \\ \\ \\ \\ \\ \\equiv \\ \\ \\ \\ \\ A^c \\cup B = U \\ \\ \\ \\ \\ \\equiv \\ \\ \\ \\ \\ B^c \\subseteq A^c$$"
   ]
  },
  {
   "cell_type": "markdown",
   "metadata": {},
   "source": [
    "## Prove\n",
    "\n",
    "Given, $A_1 \\subseteq A_2$, prove $A_2 = A_1 \\cup (A_2 - A_1)$ where $A_1$ and $A_2 - A_1$ are mutually exclusive.\n",
    "\n",
    "#### Proof\n",
    "\n",
    "Given $A_1 \\subseteq A_2$. Let $x \\in A_1$. Then $x \\in A_2$.  Now, suppose $A_1 \\cup (A_2 - A_1)$. Then, \n",
    "\n",
    "$$\n",
    "\\begin{align}\n",
    "A_1 \\cup (A_2 - A_1) \\equiv & \\  \\{x|x \\in A_1 \\lor x \\in (A_2 - A_1)\\} \\\\\n",
    "                     \\equiv & \\  \\{x|x \\in A_1 \\lor x \\in (A_2 \\cap A_1')\\} \\\\\n",
    "                     \\equiv & \\  \\{x|x \\in A_1 \\lor ( x \\in A_2 \\land x \\in A_1')\\} \\\\\n",
    "                     \\equiv & \\  \\{x|x \\in A_1 \\lor x \\in A_2) \\land (x \\in A_1 \\lor x \\in A_1')\\} \\\\\n",
    "                     \\equiv & \\  \\{x|x \\in A_1 \\lor x \\in A_2\\}\n",
    "\\end{align}\n",
    "$$\n",
    "\n",
    "In either case, $x \\in A_2$, whether directly from above or by the given $A_1 \\subseteq A_2$. Therefore,\n",
    "\n",
    "$$\n",
    "\\begin{align}\n",
    "A_1 \\cup (A_2 - A_1) \\equiv & \\  \\{x|x \\in A_2\\} \\\\\n",
    "                     \\equiv & \\  A_2.\n",
    "\\end{align}\n",
    "$$\n",
    "\n",
    "Now suppose $A_2$. Let $x \\in A_2$. **HELP HERE**"
   ]
  },
  {
   "cell_type": "markdown",
   "metadata": {},
   "source": [
    "$$\n",
    "\\begin{align}\n",
    "a = \\frac{1}{2} && b = \\frac{1}{3} && c = \\frac{1}{4} \\\\\n",
    "a && b && c\n",
    "\\end{align}\n",
    "$$"
   ]
  }
 ],
 "metadata": {
  "kernelspec": {
   "display_name": "Python 3",
   "language": "python",
   "name": "python3"
  },
  "language_info": {
   "codemirror_mode": {
    "name": "ipython",
    "version": 3
   },
   "file_extension": ".py",
   "mimetype": "text/x-python",
   "name": "python",
   "nbconvert_exporter": "python",
   "pygments_lexer": "ipython3",
   "version": "3.7.6"
  }
 },
 "nbformat": 4,
 "nbformat_minor": 4
}
