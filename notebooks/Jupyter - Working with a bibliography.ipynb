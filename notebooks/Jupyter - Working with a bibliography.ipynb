{
 "cells": [
  {
   "cell_type": "markdown",
   "metadata": {},
   "source": [
    "### More sources for consideration\n",
    " - See [How to add automatically extension to jupyter-ipython notebook](https://stackoverflow.com/questions/32046241/how-to-add-automatically-extension-to-jupyter-ipython-notebook)\n",
    "     - Speaks to how to use Jupyter CLI to install and enable extension\n",
    " - See [jupyter-contrib-nbextensions.readthedocs.io](https://jupyter-contrib-nbextensions.readthedocs.io/en/latest/install.html)\n",
    "     - Speaks to documentation on Jupyter and nbextensions\n",
    " - See [jupyter_nbextensions_configurator](https://github.com/Jupyter-contrib/jupyter_nbextensions_configurator)\n",
    "     - Speaks to using a extension manager on the user interface to enable/disable extensions\n",
    " - See [Calico Document Tools and Bibtex](https://jupyter.brynmawr.edu/services/public/dblank/jupyter.cs/Examples/Calico%20Document%20Tools%20and%20Bibtex.ipynb)\n",
    "     - Speaks to the steps described at Brynmawr College for using the calico-document-tools\n",
    "     - The steps to install and enable these tools are incorrect.\n",
    " - See [ICalico Wiki](http://wiki.roboteducation.org/ICalico)\n",
    "     - This site is demonstrated in one of the attached videos\n",
    " - See [Calysto notebook extensions](https://github.com/Calysto/notebook-extensions)"
   ]
  },
  {
   "cell_type": "markdown",
   "metadata": {},
   "source": [
    "### Taking the approach promoted by Bryn Mahr College\n",
    "\n",
    "First, you need to install the extension itself using the updated Jupyter CLI.\n",
    "\n",
    "    jupyter nbextension install https://github.com/Calysto/notebook-extensions/archive/master.zip\n",
    "    \n",
    "Second, you need to enable the extension so that the appropriate buttons appear on the user interface\n",
    "\n",
    "    jupyter nbextension enable calico-document-tools\n",
    "    \n",
    "Starting my local jupyter notebook is next (this works, I see the buttons)\n",
    "\n",
    "    jupyter notebook\n",
    "    \n",
    "Starting my local jupyter lab is next (this does NOT work, I don't see the buttons)\n",
    "\n",
    "    jupyter lab       "
   ]
  },
  {
   "cell_type": "markdown",
   "metadata": {},
   "source": [
    "From BMC: Thus, if you want to cite IPython, then you could use that \n",
    "citation <a name=\"ref-1\"/>[(P&eacute;rez and Granger, 2007)](#cite-PER-GRA:2007)."
   ]
  },
  {
   "cell_type": "markdown",
   "metadata": {},
   "source": [
    "### References\n",
    "\n",
    "<a name=\"cite-PER-GRA:2007\"/><sup>[^](#ref-1) </sup>P&eacute;rez, Fernando and Granger, Brian E.. 2007. _IPython: a System for Interactive Scientific Computing_. [URL](http://ipython.org)\n",
    "\n"
   ]
  },
  {
   "cell_type": "markdown",
   "metadata": {},
   "source": [
    "<!--bibtex\n",
    "\n",
    "@Article{PER-GRA:2007,\n",
    "  Author    = {P\\'erez, Fernando and Granger, Brian E.},\n",
    "  Title     = {{IP}ython: a System for Interactive Scientific Computing},\n",
    "  Journal   = {Computing in Science and Engineering},\n",
    "  Volume    = {9},\n",
    "  Number    = {3},\n",
    "  Pages     = {21--29},\n",
    "  month     = may,\n",
    "  year      = 2007,\n",
    "  url       = \"http://ipython.org\",\n",
    "  ISSN      = \"1521-9615\",\n",
    "  doi       = {10.1109/MCSE.2007.53},\n",
    "  publisher = {IEEE Computer Society},\n",
    "}\n",
    "-->"
   ]
  }
 ],
 "metadata": {
  "kernelspec": {
   "display_name": "Python 3",
   "language": "python",
   "name": "python3"
  },
  "language_info": {
   "codemirror_mode": {
    "name": "ipython",
    "version": 3
   },
   "file_extension": ".py",
   "mimetype": "text/x-python",
   "name": "python",
   "nbconvert_exporter": "python",
   "pygments_lexer": "ipython3",
   "version": "3.7.6"
  }
 },
 "nbformat": 4,
 "nbformat_minor": 4
}
