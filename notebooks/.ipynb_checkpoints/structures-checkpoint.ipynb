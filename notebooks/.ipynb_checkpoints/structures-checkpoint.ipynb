{
 "cells": [
  {
   "cell_type": "markdown",
   "metadata": {},
   "source": [
    "    // Why use const thru-out?\n",
    "    // Why define head as a ListNode*?\n",
    "    //\n",
    "    template<typename T>\n",
    "    class List {\n",
    "    public:\n",
    "        List();\n",
    "        const T & operator[](unsigned index);\n",
    "        void print();\n",
    "        void add(const T & data);\n",
    "        \n",
    "    private:\n",
    "        class Node {\n",
    "        public:\n",
    "            const T & data;         // WHY const, WHY reference &\n",
    "            Node* next;\n",
    "            Node(const T & data): data(data), next(NULL) { }\n",
    "        };\n",
    "\n",
    "        Node *head;\n",
    "    };"
   ]
  },
  {
   "cell_type": "markdown",
   "metadata": {},
   "source": [
    "    // Why use const thru-out?\n",
    "    // Why define head as a Node*?\n",
    "    //\n",
    "    template<typename T>\n",
    "    class List {\n",
    "    public:\n",
    "        List();\n",
    "        const T & operator[](unsigned index);\n",
    "        void print();\n",
    "        void add(const T & data);\n",
    "\n",
    "    private:\n",
    "        class Node {\n",
    "        public:\n",
    "            const T & data;\n",
    "            Node* next;\n",
    "            Node* prev;\n",
    "            Node(const T & data): data(data), next(NULL), prev(NULL) { }\n",
    "        };\n",
    "\n",
    "        Node *head;\n",
    "    };"
   ]
  }
 ],
 "metadata": {
  "kernelspec": {
   "display_name": "Python 3",
   "language": "python",
   "name": "python3"
  },
  "language_info": {
   "codemirror_mode": {
    "name": "ipython",
    "version": 3
   },
   "file_extension": ".py",
   "mimetype": "text/x-python",
   "name": "python",
   "nbconvert_exporter": "python",
   "pygments_lexer": "ipython3",
   "version": "3.7.6"
  }
 },
 "nbformat": 4,
 "nbformat_minor": 4
}
