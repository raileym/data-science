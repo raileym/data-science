{
 "cells": [
  {
   "cell_type": "code",
   "execution_count": 1,
   "metadata": {},
   "outputs": [
    {
     "data": {
      "text/html": [
       "\n",
       "\n",
       "<style>\n",
       "ol.roman {\n",
       "    list-style-type: upper-roman;\n",
       "}\n",
       "</style>\n",
       "\n"
      ],
      "text/plain": [
       "<IPython.core.display.HTML object>"
      ]
     },
     "execution_count": 1,
     "metadata": {},
     "output_type": "execute_result"
    }
   ],
   "source": [
    "from IPython.core.display import HTML\n",
    "\n",
    "HTML(\"\"\"\n",
    "\n",
    "<style>\n",
    "ol.roman {\n",
    "    list-style-type: upper-roman;\n",
    "}\n",
    "</style>\n",
    "\n",
    "\"\"\")"
   ]
  },
  {
   "cell_type": "markdown",
   "metadata": {},
   "source": [
    "> Definition: A <mark>random experiment</mark> is any process that leads to an outcome that is not known beforehand [1]."
   ]
  },
  {
   "cell_type": "markdown",
   "metadata": {},
   "source": [
    "> Definition: A <mark>sample space $\\Omega$</mark> of a random experiment is the set of all possible outcomes that may appear in a realization of this experiment [1]. "
   ]
  },
  {
   "cell_type": "markdown",
   "metadata": {},
   "source": [
    "> Definition: The elements of $\\Omega$ are called <mark>sample points</mark> for this experiment [1]."
   ]
  },
  {
   "cell_type": "markdown",
   "metadata": {},
   "source": [
    "> Definition: A subset of $\\Omega$ is called an <mark>event</mark> [1]."
   ]
  },
  {
   "cell_type": "markdown",
   "metadata": {},
   "source": [
    "> Definition: An event $A = \\{ a \\}$, consisting of a single sample point $a \\in \\Omega$, is called an <mark>elementary event</mark> [1]."
   ]
  },
  {
   "cell_type": "markdown",
   "metadata": {},
   "source": [
    "> Definition: An event $B = \\{ a, b, c \\}$, consisting of more than one outcome $a, b, c \\in \\Omega$, is called a <mark>compound event</mark>."
   ]
  },
  {
   "cell_type": "markdown",
   "metadata": {},
   "source": [
    "> Definition: A sample space that contains a finite number of \n",
    "elements (sample points) is called a <mark>finite sample space</mark>. "
   ]
  },
  {
   "cell_type": "markdown",
   "metadata": {},
   "source": [
    "> Definition: A sample space that contains an infinite number of points, yet enumerable, is called a <mark>countably infinite sample space</mark>"
   ]
  },
  {
   "cell_type": "markdown",
   "metadata": {},
   "source": [
    "> Definition: A set whose points cannot be enumerated is called an <mark>uncountable set</mark>."
   ]
  },
  {
   "cell_type": "markdown",
   "metadata": {},
   "source": [
    "> Definition:  If a sample set is uncountable, then it is referred to as a <mark>continuous sample space</mark>"
   ]
  },
  {
   "cell_type": "markdown",
   "metadata": {},
   "source": [
    "> Definition: A sample space that has either a finite number or a countably infinite number of elements is called a <mark>discrete sample spaces.</mark>"
   ]
  },
  {
   "cell_type": "markdown",
   "metadata": {},
   "source": [
    "## The Axioms of Probability (abridged - discrete)\n",
    "\n",
    "> Suppose we have a sample space $\\Omega$. If $\\Omega$ is discrete, then all subsets of $\\Omega$ correspond to events and conversely, but if $\\Omega$ is nondiscrete, only special subsets (called measurable) correspond to events. "
   ]
  },
  {
   "cell_type": "markdown",
   "metadata": {},
   "source": [
    "## The Axioms of Probability [3]\n",
    "\n",
    "Let $\\Omega$ be a collection of elements, which we shall call _elementary events_, and $\\zeta$ a set of subsets of $\\Omega$; the elements of $\\zeta$ will be called _random events_.\n",
    "<ol class=\"roman\">\n",
    "  <li>$\\zeta$ is a field of sets.</li> \n",
    "  <li>$\\zeta$ contains the set $\\Omega$.</li> \n",
    "  <li>To each set $A$ in $\\zeta$ is assigned a non-negative real number $P(A)$. This number is called the <em>probability</em> of the event $A$.</li> \n",
    "$$P(A) \\ge 0$$\n",
    "  <li>$P(\\Omega) = 1$.</li> \n",
    "$$P(\\Omega) \\ge 0$$\n",
    "  <li>If $A$ and $B$ have no element in common, then</li>\n",
    "$$P(A+B) = P(A) + P(B)$$\n",
    "</ol>\n",
    "\n",
    "A system of sets $\\zeta$, together with a definite assignment of numbers $P(A)$, satisfying Axioms $I-V$, is called a _field of probability_.\n",
    "\n",
    "A system of sets is called a field if the sum, product, and difference of two sets in the system also belong to the same system."
   ]
  },
  {
   "cell_type": "code",
   "execution_count": null,
   "metadata": {},
   "outputs": [],
   "source": []
  },
  {
   "cell_type": "markdown",
   "metadata": {},
   "source": [
    "# Finite Sample Set"
   ]
  },
  {
   "cell_type": "markdown",
   "metadata": {},
   "source": [
    "## Tossing a coin"
   ]
  },
  {
   "cell_type": "markdown",
   "metadata": {},
   "source": [
    "A most basic random experiment is the toss of a single coin. The resulting sample space $\\Omega$ contains two outcomes,\n",
    "\n",
    "$$\\Omega = \\{ H , T \\},$$\n",
    "    \n",
    "where $H$ denotes Heads and $T$ denotes Tails. Two possible outcomes equate to two elementary events."
   ]
  },
  {
   "cell_type": "markdown",
   "metadata": {},
   "source": [
    "----"
   ]
  },
  {
   "cell_type": "markdown",
   "metadata": {},
   "source": [
    "## Tossing two coins"
   ]
  },
  {
   "cell_type": "markdown",
   "metadata": {},
   "source": [
    "A random experiment that is the toss of two coins, one toss followed by a second, yields a sample space with four outcomes,\n",
    "\n",
    "$$\\Omega = \\{ HH , HT , TH, TT \\} ,$$\n",
    "    \n",
    "where $HH$ means that both coin tosses show Heads, whereas $HT$ means that the first toss shows Heads and the second show Tails. The ordered pairs $HT$ and $TH$ are distinguishable; consequently, the sample space contains four distinct outcomes, which equate to four elementary events."
   ]
  },
  {
   "cell_type": "markdown",
   "metadata": {},
   "source": [
    "----"
   ]
  },
  {
   "cell_type": "markdown",
   "metadata": {},
   "source": [
    "## Tossing a die"
   ]
  },
  {
   "cell_type": "markdown",
   "metadata": {},
   "source": [
    "Consider another random experiment that involves the toss of a fair 6-sided die. Here, the sample space $\\Omega$ has six outcomes,\n",
    "\n",
    "$$\\Omega = \\{ 1, 2, 3, 4, 5, 6 \\},$$\n",
    "\n",
    "where each number denotes exactly one of six possible faces showing on the toss of the die."
   ]
  },
  {
   "cell_type": "markdown",
   "metadata": {},
   "source": [
    "----"
   ]
  },
  {
   "cell_type": "markdown",
   "metadata": {},
   "source": [
    "When tossing a single die, there are six elementary events,\n",
    "\n",
    "$$A_1 = \\{ 1 \\}, \n",
    "\\ \\ \\ A_2 = \\{ 2 \\}, \n",
    "\\ \\ \\ A_3 = \\{ 3 \\}, \n",
    "\\ \\ \\ A_4 = \\{ 4 \\}, \n",
    "\\ \\ \\ A_5 = \\{ 5 \\}, \n",
    "\\ \\ \\ A_6 = \\{ 6 \\}.$$"
   ]
  },
  {
   "cell_type": "markdown",
   "metadata": {},
   "source": [
    "----"
   ]
  },
  {
   "cell_type": "markdown",
   "metadata": {},
   "source": [
    "Compound events formed from the random experiment involving the toss of a die include the event $B$ that denotes the set of all even-numbered faces of a die,\n",
    "\n",
    "$$B = \\{ 2, 4, 6 \\};$$\n",
    "\n",
    "The event $C$ that denotes the set of all odd-numbered faces of a die,\n",
    "\n",
    "$$C = \\{ 1, 3, 5 \\};$$\n",
    "\n",
    "and finally, the event $D$ that denotes the set of all numbered faces of a die whose value is less than 4,\n",
    "\n",
    "$$D = \\{ 1, 2, 3 \\}.$$\n"
   ]
  },
  {
   "cell_type": "markdown",
   "metadata": {},
   "source": [
    "## Tossing two die"
   ]
  },
  {
   "cell_type": "code",
   "execution_count": 58,
   "metadata": {
    "jupyter": {
     "source_hidden": true
    }
   },
   "outputs": [
    {
     "data": {
      "text/markdown": [
       "\n",
       "\n",
       "And if the random experiment involves the toss of two fair die, the sample space $\\Omega$ contains 36 outcomes, \n",
       "\n",
       " $$ \\Omega = [(1, 1), (1, 2), (1, 3), (1, 4), (1, 5), (1, 6), (2, 1), (2, 2), (2, 3), (2, 4), (2, 5), (2, 6), (3, 1), (3, 2), (3, 3), (3, 4), (3, 5), (3, 6), (4, 1), (4, 2), (4, 3), (4, 4), (4, 5), (4, 6), (5, 1), (5, 2), (5, 3), (5, 4), (5, 5), (5, 6), (6, 1), (6, 2), (6, 3), (6, 4), (6, 5), (6, 6)] , $$ \n",
       "\n",
       "where each outcome $(n,m)$ denotes the faces showing for the roll of the first and second die, $m$ and $n$, respectively.\n",
       "\n",
       "\n"
      ],
      "text/plain": [
       "<IPython.core.display.Markdown object>"
      ]
     },
     "execution_count": 58,
     "metadata": {},
     "output_type": "execute_result"
    }
   ],
   "source": [
    "from IPython.display import Markdown\n",
    "import html\n",
    "\n",
    "mk_sample_space = \"$$ \\\\Omega = \\\\{ a, b, c \\\\} $$\"\n",
    "mk_sample = [ (i,j) for i in range(1,7) for j in range(1,7) ]\n",
    "\n",
    "# The following code works. Just print the result.\n",
    "#\n",
    "# mk_sample_new = [ (html.unescape(i), html.unescape(j))\n",
    "#     for i in ['&#9856;','&#9857;','&#9858;','&#9859;','&#9860;','&#9861;']\n",
    "#     for j in ['&#9856;','&#9857;','&#9858;','&#9859;','&#9860;','&#9861;']\n",
    "# ]\n",
    "\n",
    "mk_sample_space = \" $$ \\Omega = {0} , $$ \".format(mk_sample)\n",
    "    \n",
    "Markdown(f\"\"\"\n",
    "\n",
    "And if the random experiment involves the toss of two fair die, the sample space $\\Omega$ contains 36 outcomes, \n",
    "\n",
    "{mk_sample_space}\n",
    "\n",
    "where each outcome $(n,m)$ denotes the faces showing for the roll of the first and second die, $m$ and $n$, respectively.\n",
    "\n",
    "\n",
    "\"\"\")"
   ]
  },
  {
   "cell_type": "markdown",
   "metadata": {},
   "source": [
    "# Countably Infinite Sample Space"
   ]
  },
  {
   "cell_type": "markdown",
   "metadata": {},
   "source": [
    "Consider the random experiment of tossing a coin until a Tails appears for the first time. In this experiment, the sample set $\\Omega$ consists of sequences of zero or more Heads ending with a Tail, as in the sample space\n",
    "\n",
    "$$\\Omega = \\{ T, HT, HHT, HHHT, HHHHT, ... \\}.$$"
   ]
  },
  {
   "cell_type": "markdown",
   "metadata": {},
   "source": [
    "This sample space $\\Omega$ has infinitely many sample points that are distinguishable and enumerable. This sample set is called countably infinite sample space."
   ]
  },
  {
   "cell_type": "markdown",
   "metadata": {},
   "source": [
    "----"
   ]
  },
  {
   "cell_type": "markdown",
   "metadata": {},
   "source": [
    "The set of all integers is a countably infinite sample space.\n",
    "\n",
    "The set of all natural numbers is a countably infinite sample space.\n",
    "\n",
    "The set of all rational numbers is a countably infiite sample space."
   ]
  },
  {
   "cell_type": "markdown",
   "metadata": {},
   "source": [
    "# Continuous Sample Space "
   ]
  },
  {
   "cell_type": "markdown",
   "metadata": {},
   "source": [
    "A random experiment that measures time, e.g., time to failure of a light bulb, has a continuous sample space,\n",
    "\n",
    "$$\\Omega = \\{t : t \\ge 0 \\} = [ 0, \\infty ).$$\n",
    "\n",
    "----\n",
    "\n",
    "The subset of $\\Omega$\n",
    "\n",
    "$$A = \\{ t : 0 \\le t \\le 500 \\} = [0,500]$$\n",
    "\n",
    "describes the event \"the lifetime of a light bulb does not exceed 500 hours.\"\n",
    "\n",
    "----\n",
    "\n",
    "The event \"the light bulb works for at least 300 hours\" corresponds to the set\n",
    "\n",
    "$$B = \\{ t : 300 \\le t \\} = [ 300, \\infty )$$\n",
    "\n",
    "----\n",
    "\n",
    "Random experiments that involve outcomes of temperature readings, height measurements, and rainfall form continuous sample spaces."
   ]
  },
  {
   "cell_type": "markdown",
   "metadata": {},
   "source": [
    "### References\n",
    "\n",
    "[1] N. Balakrishnan, N., Markos V., Koutras, and Konstadinos G. Politis. _Introduction to Probability: Models and applications_. Wiley Series in Probability and Statistics, 2019.\n",
    "\n",
    "[2] \n",
    "- See https://stackoverflow.com/questions/30061902/how-to-handle-citations-in-ipython-notebook\n",
    "- See https://sylvaindeville.net/2015/07/17/writing-academic-papers-in-plain-text-with-markdown-and-jupyter-notebook/\n",
    "\n",
    "[3] Kolmogorov, A.N. <ins>Foundations of the Theory of Probability</ins>. Translation edited by Nathan Morrison. Chelsea Publishing Company. New York. 1950."
   ]
  }
 ],
 "metadata": {
  "kernelspec": {
   "display_name": "Python 3",
   "language": "python",
   "name": "python3"
  },
  "language_info": {
   "codemirror_mode": {
    "name": "ipython",
    "version": 3
   },
   "file_extension": ".py",
   "mimetype": "text/x-python",
   "name": "python",
   "nbconvert_exporter": "python",
   "pygments_lexer": "ipython3",
   "version": "3.7.6"
  }
 },
 "nbformat": 4,
 "nbformat_minor": 4
}
