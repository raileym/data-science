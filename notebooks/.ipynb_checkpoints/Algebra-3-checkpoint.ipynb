{
 "cells": [
  {
   "cell_type": "code",
   "execution_count": 15,
   "metadata": {},
   "outputs": [],
   "source": [
    "# See https://towardsdatascience.com/interactive-graphs-in-python-830b1e6c197f\n",
    "import math\n",
    "import matplotlib.pyplot as plt\n",
    "import numpy as np\n",
    "from matplotlib import figure\n",
    "from ipywidgets import interact"
   ]
  },
  {
   "cell_type": "code",
   "execution_count": 16,
   "metadata": {},
   "outputs": [],
   "source": [
    "%run \"src/plotter.py\"\n",
    "%run \"src/g_sqrt.py\"\n",
    "%run \"src/g_sin.py\"\n",
    "%run \"src/polyFactory\""
   ]
  },
  {
   "cell_type": "code",
   "execution_count": 17,
   "metadata": {},
   "outputs": [
    {
     "data": {
      "application/vnd.jupyter.widget-view+json": {
       "model_id": "41ee0fee0dc846d086ce42322c646441",
       "version_major": 2,
       "version_minor": 0
      },
      "text/plain": [
       "interactive(children=(Dropdown(description='color', options=('blue', 'red', 'green'), value='blue'), IntSlider…"
      ]
     },
     "metadata": {},
     "output_type": "display_data"
    },
    {
     "data": {
      "text/plain": [
       "<function polyFactory.<locals>.poly(color, a, h, k)>"
      ]
     },
     "execution_count": 17,
     "metadata": {},
     "output_type": "execute_result"
    }
   ],
   "source": [
    "# See https://towardsdatascience.com/interactive-graphs-in-python-830b1e6c197f\n",
    "\n",
    "#polyFactory binds 'func' to this lambda function,\n",
    "#adds title and xv to the mix\n",
    "def polyFactory(func, title, xv):\n",
    "    \n",
    "    def poly(color, a, h, k):\n",
    "    \n",
    "        yv = np.array(list(map(lambda x: func(x, a, h, k), xv)))\n",
    "\n",
    "        return plotter(plt, title, color, xv, yv)\n",
    "    \n",
    "    return poly\n",
    "\n",
    "my_poly = polyFactory(plt, func=g_sin, title='Example of a Plot', xv=np.linspace(-10, 10, 400))\n",
    "\n",
    "interact(my_poly, color=['blue', 'red', 'green'], a=(1,10), h=(-6,6), k=(-6,6))"
   ]
  },
  {
   "cell_type": "code",
   "execution_count": null,
   "metadata": {},
   "outputs": [],
   "source": []
  }
 ],
 "metadata": {
  "kernelspec": {
   "display_name": "Python 3",
   "language": "python",
   "name": "python3"
  },
  "language_info": {
   "codemirror_mode": {
    "name": "ipython",
    "version": 3
   },
   "file_extension": ".py",
   "mimetype": "text/x-python",
   "name": "python",
   "nbconvert_exporter": "python",
   "pygments_lexer": "ipython3",
   "version": "3.7.6"
  }
 },
 "nbformat": 4,
 "nbformat_minor": 4
}
