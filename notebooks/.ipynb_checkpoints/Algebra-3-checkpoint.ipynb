{
 "cells": [
  {
   "cell_type": "code",
   "execution_count": 1,
   "metadata": {},
   "outputs": [],
   "source": [
    "# See https://towardsdatascience.com/interactive-graphs-in-python-830b1e6c197f\n",
    "import math\n",
    "import matplotlib.pyplot as plt\n",
    "import numpy as np\n",
    "from matplotlib import figure\n",
    "from ipywidgets import interact"
   ]
  },
  {
   "cell_type": "code",
   "execution_count": 2,
   "metadata": {},
   "outputs": [],
   "source": [
    "#%run \"src/plotter.py\"\n",
    "%run \"src/g_sqrt.py\"\n",
    "%run \"src/g_sin.py\"\n",
    "%run \"src/g_cos.py\"\n",
    "%run \"src/g_linear.py\"\n",
    "%run \"src/g_parabola.py\"\n",
    "%run \"src/g_cubic.py\"\n",
    "%run \"src/g_abs.py\"\n",
    "%run \"src/polyFactory.py\""
   ]
  },
  {
   "cell_type": "code",
   "execution_count": 3,
   "metadata": {},
   "outputs": [],
   "source": [
    "my_linear   = polyFactory(plt=plt, func=g_linear,   title='Example of a Plot', xv=np.linspace(-10, 10, 400))\n",
    "my_parabola = polyFactory(plt=plt, func=g_parabola, title='Example of a Plot', xv=np.linspace(-10, 10, 400))\n",
    "my_cubic    = polyFactory(plt=plt, func=g_cubic,    title='Example of a Plot', xv=np.linspace(-10, 10, 400))\n",
    "my_sqrt     = polyFactory(plt=plt, func=g_sqrt,     title='Example of a Plot', xv=np.linspace(-10, 10, 400))\n",
    "my_sin      = polyFactory(plt=plt, func=g_sin,      title='Example of a Plot', xv=np.linspace(-10, 10, 400))\n",
    "my_cos      = polyFactory(plt=plt, func=g_cos,      title='Example of a Plot', xv=np.linspace(-10, 10, 400))\n",
    "my_abs      = polyFactory(plt=plt, func=g_abs,      title='Example of a Plot', xv=np.linspace(-10, 10, 400))"
   ]
  },
  {
   "cell_type": "markdown",
   "metadata": {},
   "source": [
    "### A linear function is a simple expression\n",
    "\n",
    "# $$y = (x-h) - k$$"
   ]
  },
  {
   "cell_type": "code",
   "execution_count": 4,
   "metadata": {
    "scrolled": true
   },
   "outputs": [
    {
     "data": {
      "application/vnd.jupyter.widget-view+json": {
       "model_id": "09a182f6c4b44d508ba7e9d64f643461",
       "version_major": 2,
       "version_minor": 0
      },
      "text/plain": [
       "interactive(children=(Dropdown(description='color', options=('blue', 'red', 'green'), value='blue'), IntSlider…"
      ]
     },
     "metadata": {},
     "output_type": "display_data"
    }
   ],
   "source": [
    "interact(my_linear,   color=['blue', 'red', 'green'], a=(1,10), h=(-6,6), k=(-6,6));"
   ]
  },
  {
   "cell_type": "code",
   "execution_count": 75,
   "metadata": {},
   "outputs": [
    {
     "data": {
      "application/vnd.jupyter.widget-view+json": {
       "model_id": "4fd91c4fde7441f5a78c9209daafe082",
       "version_major": 2,
       "version_minor": 0
      },
      "text/plain": [
       "interactive(children=(Dropdown(description='color', options=('blue', 'red', 'green'), value='blue'), IntSlider…"
      ]
     },
     "metadata": {},
     "output_type": "display_data"
    },
    {
     "data": {
      "text/plain": [
       "<function polyFactory.<locals>.poly(color, a, h, k)>"
      ]
     },
     "execution_count": 75,
     "metadata": {},
     "output_type": "execute_result"
    }
   ],
   "source": [
    "interact(my_parabola, color=['blue', 'red', 'green'], a=(1,10), h=(-6,6), k=(-6,6))"
   ]
  },
  {
   "cell_type": "code",
   "execution_count": 76,
   "metadata": {},
   "outputs": [
    {
     "data": {
      "application/vnd.jupyter.widget-view+json": {
       "model_id": "c916ab4ad60947aaa16db58d75ff2d76",
       "version_major": 2,
       "version_minor": 0
      },
      "text/plain": [
       "interactive(children=(Dropdown(description='color', options=('blue', 'red', 'green'), value='blue'), IntSlider…"
      ]
     },
     "metadata": {},
     "output_type": "display_data"
    },
    {
     "data": {
      "text/plain": [
       "<function polyFactory.<locals>.poly(color, a, h, k)>"
      ]
     },
     "execution_count": 76,
     "metadata": {},
     "output_type": "execute_result"
    }
   ],
   "source": [
    "interact(my_cubic,    color=['blue', 'red', 'green'], a=(1,10), h=(-6,6), k=(-6,6))"
   ]
  },
  {
   "cell_type": "code",
   "execution_count": 77,
   "metadata": {},
   "outputs": [
    {
     "data": {
      "application/vnd.jupyter.widget-view+json": {
       "model_id": "071eb56cff2a4ef0835c4c62d94293b1",
       "version_major": 2,
       "version_minor": 0
      },
      "text/plain": [
       "interactive(children=(Dropdown(description='color', options=('blue', 'red', 'green'), value='blue'), IntSlider…"
      ]
     },
     "metadata": {},
     "output_type": "display_data"
    },
    {
     "data": {
      "text/plain": [
       "<function polyFactory.<locals>.poly(color, a, h, k)>"
      ]
     },
     "execution_count": 77,
     "metadata": {},
     "output_type": "execute_result"
    }
   ],
   "source": [
    "interact(my_sin, color=['blue', 'red', 'green'], a=(1,10), h=(-6,6), k=(-6,6))"
   ]
  },
  {
   "cell_type": "code",
   "execution_count": 78,
   "metadata": {},
   "outputs": [
    {
     "data": {
      "application/vnd.jupyter.widget-view+json": {
       "model_id": "9dd5b36c57ed4fa2a41966938993e2a4",
       "version_major": 2,
       "version_minor": 0
      },
      "text/plain": [
       "interactive(children=(Dropdown(description='color', options=('blue', 'red', 'green'), value='blue'), IntSlider…"
      ]
     },
     "metadata": {},
     "output_type": "display_data"
    },
    {
     "data": {
      "text/plain": [
       "<function polyFactory.<locals>.poly(color, a, h, k)>"
      ]
     },
     "execution_count": 78,
     "metadata": {},
     "output_type": "execute_result"
    }
   ],
   "source": [
    "interact(my_cos, color=['blue', 'red', 'green'], a=(1,10), h=(-6,6), k=(-6,6))"
   ]
  },
  {
   "cell_type": "code",
   "execution_count": 79,
   "metadata": {},
   "outputs": [
    {
     "data": {
      "application/vnd.jupyter.widget-view+json": {
       "model_id": "9b2e997f54bb40ecb95207167b1d039f",
       "version_major": 2,
       "version_minor": 0
      },
      "text/plain": [
       "interactive(children=(Dropdown(description='color', options=('blue', 'red', 'green'), value='blue'), IntSlider…"
      ]
     },
     "metadata": {},
     "output_type": "display_data"
    },
    {
     "data": {
      "text/plain": [
       "<function polyFactory.<locals>.poly(color, a, h, k)>"
      ]
     },
     "execution_count": 79,
     "metadata": {},
     "output_type": "execute_result"
    }
   ],
   "source": [
    "interact(my_sqrt, color=['blue', 'red', 'green'], a=(1,10), h=(-6,6), k=(-6,6))"
   ]
  },
  {
   "cell_type": "code",
   "execution_count": 81,
   "metadata": {},
   "outputs": [
    {
     "data": {
      "application/vnd.jupyter.widget-view+json": {
       "model_id": "41d21061fc2548ed9dc9461dc89e1be2",
       "version_major": 2,
       "version_minor": 0
      },
      "text/plain": [
       "interactive(children=(Dropdown(description='color', options=('blue', 'red', 'green'), value='blue'), IntSlider…"
      ]
     },
     "metadata": {},
     "output_type": "display_data"
    },
    {
     "data": {
      "text/plain": [
       "<function polyFactory.<locals>.poly(color, a, h, k)>"
      ]
     },
     "execution_count": 81,
     "metadata": {},
     "output_type": "execute_result"
    }
   ],
   "source": [
    "interact(my_abs, color=['blue', 'red', 'green'], a=(1,10), h=(-6,6), k=(-6,6))"
   ]
  }
 ],
 "metadata": {
  "kernelspec": {
   "display_name": "Python 3",
   "language": "python",
   "name": "python3"
  },
  "language_info": {
   "codemirror_mode": {
    "name": "ipython",
    "version": 3
   },
   "file_extension": ".py",
   "mimetype": "text/x-python",
   "name": "python",
   "nbconvert_exporter": "python",
   "pygments_lexer": "ipython3",
   "version": "3.7.6"
  }
 },
 "nbformat": 4,
 "nbformat_minor": 4
}
