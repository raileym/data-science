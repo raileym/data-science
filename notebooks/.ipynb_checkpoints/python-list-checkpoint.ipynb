{
 "cells": [
  {
   "cell_type": "code",
   "execution_count": 38,
   "metadata": {
    "jupyter": {
     "source_hidden": true
    }
   },
   "outputs": [
    {
     "data": {
      "text/html": [
       "<script>\n",
       "code_show=true; \n",
       "function code_toggle() {\n",
       " if (code_show){\n",
       " $('div.input').hide();\n",
       " } else {\n",
       " $('div.input').show();\n",
       " }\n",
       " code_show = !code_show\n",
       "} \n",
       "$( document ).ready(code_toggle);\n",
       "</script>\n",
       "<form action=\"javascript:code_toggle()\"><input type=\"submit\" value=\"Click here to toggle on/off the raw code.\"></form>"
      ],
      "text/plain": [
       "<IPython.core.display.HTML object>"
      ]
     },
     "execution_count": 38,
     "metadata": {},
     "output_type": "execute_result"
    }
   ],
   "source": [
    "from IPython.display import HTML\n",
    "\n",
    "HTML('''<script>\n",
    "code_show=true; \n",
    "function code_toggle() {\n",
    " if (code_show){\n",
    " $('div.input').hide();\n",
    " } else {\n",
    " $('div.input').show();\n",
    " }\n",
    " code_show = !code_show\n",
    "} \n",
    "$( document ).ready(code_toggle);\n",
    "</script>\n",
    "<form action=\"javascript:code_toggle()\"><input type=\"submit\" value=\"Click here to toggle on/off the raw code.\"></form>''')"
   ]
  },
  {
   "cell_type": "code",
   "execution_count": 55,
   "metadata": {
    "jupyter": {
     "source_hidden": true
    }
   },
   "outputs": [
    {
     "data": {
      "text/html": [
       "\n",
       "\n",
       "<style>\n",
       ".jp-MarkdownCell h3,\n",
       ".jp-MarkdownCell h3,\n",
       ".rendered_html h3 {\n",
       "    font-weight:bold;\n",
       "}\n",
       "\n",
       ".jp-CodeCell p,\n",
       ".jp-CodeCell h4,\n",
       ".jp-CodeCell li,\n",
       ".jp-MarkdownCell p,\n",
       ".jp-MarkdownCell h4,\n",
       ".jp-MarkdownCell li,\n",
       ".rendered_html p,\n",
       ".rendered_html h4,\n",
       ".rendered_html li {\n",
       "    font-size: 130%;\n",
       "    margin: 0.5em 0 1em 0;\n",
       "}\n",
       "\n",
       ".jp-CodeCell p,\n",
       ".jp-MarkdownCell p,\n",
       ".rendered_html p {\n",
       "    font-size: 130%;\n",
       "    margin-top: 1em;\n",
       "}\n",
       "\n",
       ".jp-CodeCell .p-list p,\n",
       ".jp-MarkdownCell .p-list p,\n",
       ".rendered_html .p-list p {\n",
       "    margin-top: 2em;\n",
       "}\n",
       "\n",
       ".jp-CodeCell .p-list .alert p,\n",
       ".jp-MarkdownCell .p-list .alert p,\n",
       ".rendered_html .p-list .alert p {\n",
       "    font-size: 100%;\n",
       "    margin-top: 1em;\n",
       "}\n",
       "\n",
       ".jp-CodeCell .p-list .alert p:first-child,\n",
       ".jp-MarkdownCell .p-list .alert p:first-child,\n",
       ".rendered_html .p-list .alert p:first-child {\n",
       "    margin-top: 0em;\n",
       "}\n",
       "\n",
       ".jp-CodeCell .p-list .alert p:last-child,\n",
       ".jp-MarkdownCell .p-list .alert p:last-child,\n",
       ".rendered_html .p-list .alert p:last-child {\n",
       "    margin-bottom: 0em;\n",
       "}\n",
       "\n",
       ".jp-CodeCell div.alert.alert-box.alert-reverse,\n",
       ".jp-MarkdownCell div.alert.alert-box.alert-reverse,\n",
       ".rendered_html div.alert.alert-box.alert-reverse {\n",
       "    background-color: black;\n",
       "    color: white;\n",
       "}\n",
       "\n",
       ".jp-CodeCell ul:not(.list-inline), \n",
       ".jp-CodeCell ol:not(.list-inline),\n",
       ".jp-MarkdownCell ul:not(.list-inline), \n",
       ".jp-MarkdownCell ol:not(.list-inline),\n",
       ".rendered_html ul:not(.list-inline), \n",
       ".rendered_html ol:not(.list-inline) {\n",
       "    padding-left: 4em;\n",
       "}\n",
       "\n",
       ".jp-CodeCell hr,\n",
       ".jp-MarkdownCell hr,\n",
       ".rendered_html hr {\n",
       "    margin:   40px auto;\n",
       "    width:    50%;\n",
       "    height:   1px;\n",
       "    background-color: rgba(50, 50, 50, 0.25);\n",
       "}\n",
       "\n",
       ".jp-RenderedHTMLCommon preXXX,\n",
       ".jp-RenderedHTMLCommon codeXXX {\n",
       "    padding: 1em;\n",
       "}\n",
       "\n",
       ".jp-RenderedHTMLCommon preXXX, \n",
       ".jp-RenderedHTMLCommon codeXXX {\n",
       "    background-color: #ddd;\n",
       "    color:black;\n",
       "}\n",
       "\n",
       ".jp-RenderedHTMLCommon > pre {\n",
       "    margin: 1.5em 2em;\n",
       "}\n",
       "</style>\n",
       "\n"
      ],
      "text/plain": [
       "<IPython.core.display.HTML object>"
      ]
     },
     "execution_count": 55,
     "metadata": {},
     "output_type": "execute_result"
    }
   ],
   "source": [
    "HTML(\"\"\"\n",
    "\n",
    "<style>\n",
    ".jp-MarkdownCell h3,\n",
    ".jp-MarkdownCell h3,\n",
    ".rendered_html h3 {\n",
    "    font-weight:bold;\n",
    "}\n",
    "\n",
    ".jp-CodeCell p,\n",
    ".jp-CodeCell h4,\n",
    ".jp-CodeCell li,\n",
    ".jp-MarkdownCell p,\n",
    ".jp-MarkdownCell h4,\n",
    ".jp-MarkdownCell li,\n",
    ".rendered_html p,\n",
    ".rendered_html h4,\n",
    ".rendered_html li {\n",
    "    font-size: 130%;\n",
    "    margin: 0.5em 0 1em 0;\n",
    "}\n",
    "\n",
    ".jp-CodeCell p,\n",
    ".jp-MarkdownCell p,\n",
    ".rendered_html p {\n",
    "    font-size: 130%;\n",
    "    margin-top: 1em;\n",
    "}\n",
    "\n",
    ".jp-CodeCell .p-list p,\n",
    ".jp-MarkdownCell .p-list p,\n",
    ".rendered_html .p-list p {\n",
    "    margin-top: 2em;\n",
    "}\n",
    "\n",
    ".jp-CodeCell .p-list .alert p,\n",
    ".jp-MarkdownCell .p-list .alert p,\n",
    ".rendered_html .p-list .alert p {\n",
    "    font-size: 100%;\n",
    "    margin-top: 1em;\n",
    "}\n",
    "\n",
    ".jp-CodeCell .p-list .alert p:first-child,\n",
    ".jp-MarkdownCell .p-list .alert p:first-child,\n",
    ".rendered_html .p-list .alert p:first-child {\n",
    "    margin-top: 0em;\n",
    "}\n",
    "\n",
    ".jp-CodeCell .p-list .alert p:last-child,\n",
    ".jp-MarkdownCell .p-list .alert p:last-child,\n",
    ".rendered_html .p-list .alert p:last-child {\n",
    "    margin-bottom: 0em;\n",
    "}\n",
    "\n",
    ".jp-CodeCell div.alert.alert-box.alert-reverse,\n",
    ".jp-MarkdownCell div.alert.alert-box.alert-reverse,\n",
    ".rendered_html div.alert.alert-box.alert-reverse {\n",
    "    background-color: black;\n",
    "    color: white;\n",
    "}\n",
    "\n",
    ".jp-CodeCell ul:not(.list-inline), \n",
    ".jp-CodeCell ol:not(.list-inline),\n",
    ".jp-MarkdownCell ul:not(.list-inline), \n",
    ".jp-MarkdownCell ol:not(.list-inline),\n",
    ".rendered_html ul:not(.list-inline), \n",
    ".rendered_html ol:not(.list-inline) {\n",
    "    padding-left: 4em;\n",
    "}\n",
    "\n",
    ".jp-CodeCell hr,\n",
    ".jp-MarkdownCell hr,\n",
    ".rendered_html hr {\n",
    "    margin:   40px auto;\n",
    "    width:    50%;\n",
    "    height:   1px;\n",
    "    background-color: rgba(50, 50, 50, 0.25);\n",
    "}\n",
    "\n",
    ".jp-RenderedHTMLCommon preXXX,\n",
    ".jp-RenderedHTMLCommon codeXXX {\n",
    "    padding: 1em;\n",
    "}\n",
    "\n",
    ".jp-RenderedHTMLCommon preXXX, \n",
    ".jp-RenderedHTMLCommon codeXXX {\n",
    "    background-color: #ddd;\n",
    "    color:black;\n",
    "}\n",
    "\n",
    ".jp-RenderedHTMLCommon > pre {\n",
    "    margin: 1.5em 2em;\n",
    "}\n",
    "</style>\n",
    "\n",
    "\"\"\")"
   ]
  },
  {
   "cell_type": "code",
   "execution_count": 40,
   "metadata": {
    "jupyter": {
     "source_hidden": true
    },
    "tags": [
     "hide-input"
    ]
   },
   "outputs": [],
   "source": [
    "from IPython.display import Markdown\n",
    "from IPython.core.display import HTML\n",
    "import numpy as np\n",
    "import pandas as pd"
   ]
  },
  {
   "cell_type": "markdown",
   "metadata": {},
   "source": [
    "### Using MyBinder.org\n",
    "\n",
    "I plan to use [mybinder.org][mybinder] for the immediate public deployment of my Jupyter Notebooks.\n",
    "\n",
    "> Use <mark>mybinder.org</mark>. I can (1) post my changes to my Jupyter Notebooks, (2) commit my changes to Github, and then (3) refresh my public deployment on mybinder.org. It follows that I will limit my changes to my Jupyter Notebooks to only those features capable on mybinder.org.\n",
    " \n",
    "[mybinder]: https://mybinder.org/ \"mybinder.org\" "
   ]
  },
  {
   "cell_type": "markdown",
   "metadata": {},
   "source": [
    "### References for Jupyter Notebook\n",
    " - https://medium.com/analytics-vidhya/the-ultimate-markdown-guide-for-jupyter-notebook-d5e5abf728fd\n",
    " - https://www.dataquest.io/blog/advanced-jupyter-notebooks-tutorial/\n",
    " - https://stackoverflow.com/questions/27934885/how-to-hide-code-from-cells-in-ipython-notebook-visualized-with-nbviewer"
   ]
  },
  {
   "cell_type": "markdown",
   "metadata": {},
   "source": [
    "A Python List [ ] is an **ordered** and **mutable** collection of **arbitrary objects**. \n",
    "\n",
    " - **ordered**: ['a','b'] is not ['b','a']\n",
    " - **indexed**: accessible by index\n",
    " - **not unique**: ['a', 'a', 'a', 'b', 'b']\n",
    " - **iterable**: for n in [1, 2, 3, 4, 5, 6]:\n",
    " - **dynamic**: append, delete, insert, pop, remove, slice, sort, reverse, concatenate, extend\n",
    " - **mutable**: cannot be used as a key\n",
    " - **arbitrary**: [1, 'A', False]\n",
    " - **nestable**: [1, 2, 3, [a, b, c], 4]"
   ]
  },
  {
   "cell_type": "markdown",
   "metadata": {},
   "source": [
    "### References for Python Lists\n",
    " - https://towardsdatascience.com/15-things-you-should-know-about-lists-in-python-c566792eca98\n",
    " - https://www.datacamp.com/community/tutorials/18-most-common-python-list-questions-learn-python"
   ]
  },
  {
   "cell_type": "markdown",
   "metadata": {},
   "source": [
    "## Creating Empty lists"
   ]
  },
  {
   "cell_type": "markdown",
   "metadata": {},
   "source": [
    "Initialize an empty list with two brackets.\n",
    "\n",
    "    empty = [ ]"
   ]
  },
  {
   "cell_type": "markdown",
   "metadata": {},
   "source": [
    "Initialize an empty list using list( ).\n",
    "\n",
    "    empty = list( )"
   ]
  },
  {
   "cell_type": "markdown",
   "metadata": {},
   "source": [
    "## Creating lists from ordered data.\n",
    "\n",
    "Initialize a list of items as an ordered list of the SAME object type.\n",
    "\n",
    "    my_list = ['a', 'b', 'c']\n",
    "\n",
    "Initialize a list of items as an ordered list of DISPARATE object types.\n",
    "\n",
    "    my_list_2 = ['a', 2, 3.2, False]\n",
    "    \n",
    "DUPLICATES in a list are not a problem.\n",
    "\n",
    "    my_list = ['a', 'a', 'a', 'b', 'b']\n",
    "    \n",
    "NESTED lists are not a problem either.\n",
    "\n",
    "    my_list = ['a', 'b', 'c', [1, 2, 3], 'd']"
   ]
  },
  {
   "cell_type": "code",
   "execution_count": 54,
   "metadata": {
    "jupyter": {
     "source_hidden": true
    }
   },
   "outputs": [
    {
     "data": {
      "text/markdown": [
       "\n",
       "\n",
       "## Creating lists from structured data.\n",
       "\n",
       "A list from a STRING\n",
       "\n",
       "    list('malcolm')\n",
       "    # ['m', 'a', 'l', 'c', 'o', 'l', 'm']\n",
       "\n",
       "A list from a TUPLE\n",
       "\n",
       "    list( ('one','more','thing') )\n",
       "    # ['one', 'more', 'thing']\n",
       "\n",
       "A list from a DICTIONARY\n",
       "\n",
       "    list( {'a':'1', 'b':'2', 'c':'3'} )\n",
       "    # ['a', 'b', 'c']\n",
       "\n",
       "A list from a SET\n",
       "\n",
       "    list( {'x', 'y', 'z'} )\n",
       "    # ['y', 'x', 'z']\n",
       "\n",
       "A list from a RANGE\n",
       "\n",
       "    list( range(1,10) )\n",
       "    # [1, 2, 3, 4, 5, 6, 7, 8, 9]\n",
       "\n",
       "A list from a NUMPY ARRAY\n",
       "\n",
       "    list( np.array( [1, 2, 3] ) )\n",
       "    # [1, 2, 3]\n",
       "\n",
       "A list from a PANDAS SERIES\n",
       "\n",
       "    list( pd.Series( ['a', 'b', 'c'] ) )\n",
       "    # ['a', 'b', 'c']\n",
       "\n"
      ],
      "text/plain": [
       "<IPython.core.display.Markdown object>"
      ]
     },
     "execution_count": 54,
     "metadata": {},
     "output_type": "execute_result"
    }
   ],
   "source": [
    "mk_string = \"list('malcolm')\"\n",
    "mk_tuple  = \"list( ('one','more','thing') )\"\n",
    "mk_dict   = \"list( {'a':'1', 'b':'2', 'c':'3'} )\"\n",
    "mk_set    = \"list( {'x', 'y', 'z'} )\"\n",
    "mk_range  = \"list( range(1,10) )\"\n",
    "mk_numpy  = \"list( np.array( [1, 2, 3] ) )\"\n",
    "mk_series = \"list( pd.Series( ['a', 'b', 'c'] ) )\"\n",
    "\n",
    "Markdown(f\"\"\"\n",
    "\n",
    "## Creating lists from structured data.\n",
    "\n",
    "A list from a STRING\n",
    "\n",
    "    {mk_string}\n",
    "    # { eval(mk_string) }\n",
    "\n",
    "A list from a TUPLE\n",
    "\n",
    "    { mk_tuple }\n",
    "    # { eval(mk_tuple) }\n",
    "\n",
    "A list from a DICTIONARY\n",
    "\n",
    "    {mk_dict}\n",
    "    # { eval(mk_dict) }\n",
    "\n",
    "A list from a SET\n",
    "\n",
    "    {mk_set}\n",
    "    # { eval(mk_set) }\n",
    "\n",
    "A list from a RANGE\n",
    "\n",
    "    {mk_range}\n",
    "    # { eval(mk_range) }\n",
    "\n",
    "A list from a NUMPY ARRAY\n",
    "\n",
    "    {mk_numpy}\n",
    "    # { eval(mk_numpy) }\n",
    "\n",
    "A list from a PANDAS SERIES\n",
    "\n",
    "    {mk_series}\n",
    "    # { eval(mk_series) }\n",
    "\n",
    "\"\"\")"
   ]
  },
  {
   "cell_type": "code",
   "execution_count": 61,
   "metadata": {
    "jupyter": {
     "source_hidden": true
    }
   },
   "outputs": [
    {
     "data": {
      "text/markdown": [
       "\n",
       "\n",
       "## Working the list as an array\n",
       "\n",
       "Consider a list of cities.\n",
       "\n",
       "    cities = ['Madrid', 'Munich', 'Valencia', 'Stuttgart']\n",
       "\n",
       "Choosing the FIRST element in the list cities.\n",
       "\n",
       "    cities[ 0 ]\n",
       "    # Madrid\n",
       "\n",
       "Choosing the LAST element in the list cities.\n",
       "\n",
       "    cities[ -1 ]    # BEST approach\n",
       "    # Stuttgart\n",
       "\n",
       "    cities[ 3 ]    # if you know the final index (doubtful)\n",
       "    # Stuttgart\n",
       "\n",
       "    cities[ len(cities)-1 ]    # doable, but don't bother\n",
       "    # Stuttgart\n",
       "\n"
      ],
      "text/plain": [
       "<IPython.core.display.Markdown object>"
      ]
     },
     "execution_count": 61,
     "metadata": {},
     "output_type": "execute_result"
    }
   ],
   "source": [
    "# list of cities\n",
    "cities = ['Madrid', 'Munich', 'Valencia', 'Stuttgart']\n",
    "\n",
    "mk_madrid        = \"cities[ 0 ]\"\n",
    "mk_stuttgard     = \"cities[ 3 ]\"\n",
    "mk_stuttgard_rev = \"cities[ -1 ]\"\n",
    "mk_stuttgard_len = \"cities[ len(cities)-1 ]\"\n",
    "\n",
    "Markdown(f\"\"\"\n",
    "\n",
    "## Working the list as an array\n",
    "\n",
    "Consider a list of cities.\n",
    "\n",
    "    cities = {cities}\n",
    "\n",
    "Choosing the FIRST element in the list cities.\n",
    "\n",
    "    {mk_madrid}\n",
    "    # { eval(mk_madrid) }\n",
    "\n",
    "Choosing the LAST element in the list cities.\n",
    "\n",
    "    {mk_stuttgard_rev}    # BEST approach\n",
    "    # { eval(mk_stuttgard_rev) }\n",
    "\n",
    "    {mk_stuttgard}    # if you know the final index (doubtful)\n",
    "    # { eval(mk_stuttgard) }\n",
    "\n",
    "    {mk_stuttgard_len}    # doable, but don't bother\n",
    "    # { eval(mk_stuttgard_len) }\n",
    "\n",
    "\"\"\")"
   ]
  },
  {
   "cell_type": "code",
   "execution_count": 63,
   "metadata": {
    "jupyter": {
     "source_hidden": true
    }
   },
   "outputs": [
    {
     "data": {
      "text/markdown": [
       "\n",
       "\n",
       "## Define a list using a List comprehension\n",
       "\n",
       "Define a list using a List comprehension and a Range\n",
       "\n",
       "    [ n for n in range(10) ]\n",
       "    # [0, 1, 2, 3, 4, 5, 6, 7, 8, 9]\n",
       "\n",
       "Define a list using a List comprehension and a Range and Expression\n",
       "\n",
       "    [ n**2 for n in range(10) ]\n",
       "    # [0, 1, 4, 9, 16, 25, 36, 49, 64, 81]\n",
       "\n",
       "Define a list using a List comprehension and a Range and Conditional Expression\n",
       "\n",
       "    [ n**2 for n in range(10) if 0 == n%2 ]\n",
       "    # [0, 4, 16, 36, 64]\n",
       "\n",
       "Define a list using a List comprehension and a Range and Substitution Expression\n",
       "\n",
       "    [ n**3 if 0 == n%2 else 0 for n in range(10) ]\n",
       "    # [0, 0, 8, 0, 64, 0, 216, 0, 512, 0]\n",
       "\n"
      ],
      "text/plain": [
       "<IPython.core.display.Markdown object>"
      ]
     },
     "execution_count": 63,
     "metadata": {},
     "output_type": "execute_result"
    }
   ],
   "source": [
    "mk_listcomp_range  = \"[ n for n in range(10) ]\"\n",
    "mk_listcomp_expr   = \"[ n**2 for n in range(10) ]\"\n",
    "mk_listcomp_bcond  = \"[ n**2 for n in range(10) if 0 == n%2 ]\"\n",
    "mk_listcomp_fcond  = \"[ n**3 if 0 == n%2 else 0 for n in range(10) ]\"\n",
    "x = 1\n",
    "\n",
    "Markdown(f\"\"\"\n",
    "\n",
    "## Define a list using a List comprehension\n",
    "\n",
    "Define a list using a List comprehension and a Range\n",
    "\n",
    "    {mk_listcomp_range}\n",
    "    # { eval(mk_listcomp_range) }\n",
    "\n",
    "Define a list using a List comprehension and a Range and Expression\n",
    "\n",
    "    {mk_listcomp_expr}\n",
    "    # { eval(mk_listcomp_expr) }\n",
    "\n",
    "Define a list using a List comprehension and a Range and Conditional Expression\n",
    "\n",
    "    {mk_listcomp_bcond}\n",
    "    # { eval(mk_listcomp_bcond) }\n",
    "\n",
    "Define a list using a List comprehension and a Range and Substitution Expression\n",
    "\n",
    "    {mk_listcomp_fcond}\n",
    "    # { eval(mk_listcomp_fcond) }\n",
    "\n",
    "\"\"\")\n"
   ]
  }
 ],
 "metadata": {
  "celltoolbar": "Edit Metadata",
  "kernelspec": {
   "display_name": "Python 3",
   "language": "python",
   "name": "python3"
  },
  "language_info": {
   "codemirror_mode": {
    "name": "ipython",
    "version": 3
   },
   "file_extension": ".py",
   "mimetype": "text/x-python",
   "name": "python",
   "nbconvert_exporter": "python",
   "pygments_lexer": "ipython3",
   "version": "3.7.6"
  }
 },
 "nbformat": 4,
 "nbformat_minor": 4
}
