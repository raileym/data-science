{
 "cells": [
  {
   "cell_type": "markdown",
   "metadata": {},
   "source": [
    " ### References\n",
    " - See [1] https://www.math.purdue.edu/~arapura/preprints/set.pdf\n",
    " - See [2] Kao, Eric and Michael Genesereth. <ins>Introduction to Logic</ins>. Morgan & Claypool Publishers. 2012.\n",
    " - See [3] Goldmakher, Leo. Propositional and Predicate Calculus. Working paper. Acquired on Aug 28, 2020. https://web.williams.edu/Mathematics/lg5/200/PropPred.pdf\n",
    " - See [4] http://web.mit.edu/gleitz/www/Introduction%20to%20Logic%20-%20P.%20Suppes%20(1957)%20WW.pdf\n",
    " - See [5] https://www.cis.upenn.edu/~jean/discmath-root-b.pdf\n",
    " - See [6] (collected notes) http://www1.spms.ntu.edu.sg/~frederique/DiscreteMathws.pdf\n",
    " - See [7] (Amazon) Discrete Mathematics and Its Applications Seventh Edition 7th Edition\n",
    "by Kenneth Rosen (Author)"
   ]
  },
  {
   "cell_type": "markdown",
   "metadata": {},
   "source": [
    "<mark>Induction</mark> is reasoning from the particular to the general [2]."
   ]
  },
  {
   "cell_type": "markdown",
   "metadata": {},
   "source": [
    "<mark>Abduction</mark> is reasoning from effects to possible causes [2]."
   ]
  },
  {
   "cell_type": "markdown",
   "metadata": {},
   "source": [
    "<mark>Reasoning by analogy</mark> is reasoning in which we infer a conclusion based on similarity of two situations [2]."
   ]
  }
 ],
 "metadata": {
  "kernelspec": {
   "display_name": "Python 3",
   "language": "python",
   "name": "python3"
  },
  "language_info": {
   "codemirror_mode": {
    "name": "ipython",
    "version": 3
   },
   "file_extension": ".py",
   "mimetype": "text/x-python",
   "name": "python",
   "nbconvert_exporter": "python",
   "pygments_lexer": "ipython3",
   "version": "3.7.6"
  }
 },
 "nbformat": 4,
 "nbformat_minor": 4
}
