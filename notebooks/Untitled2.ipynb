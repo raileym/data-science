{
 "cells": [
  {
   "cell_type": "code",
   "execution_count": 32,
   "metadata": {},
   "outputs": [],
   "source": [
    "import ipywidgets as widgets"
   ]
  },
  {
   "cell_type": "code",
   "execution_count": 33,
   "metadata": {},
   "outputs": [
    {
     "data": {
      "application/vnd.jupyter.widget-view+json": {
       "model_id": "c0c8d8cb689a40078078cba5f952fffc",
       "version_major": 2,
       "version_minor": 0
      },
      "text/plain": [
       "IntSlider(value=0)"
      ]
     },
     "metadata": {},
     "output_type": "display_data"
    }
   ],
   "source": [
    "widgets.IntSlider()"
   ]
  },
  {
   "cell_type": "code",
   "execution_count": 23,
   "metadata": {},
   "outputs": [
    {
     "name": "stdout",
     "output_type": "stream",
     "text": [
      "<div class=\"ctns-preload-images\"></div><div class=\"ctns-body ctns-no-answer-list ctns-no-audio ctns-no-border ctns-no-buttons ctns-no-commentary ctns-no-margin ctns-no-submit ctns-one-page group-none open\" id=\"ctns_505\" style=\"background-color:transparent;border:none;padding:0;\"> <div class=\"ctns-quiz-container\" style=\"width:100%;\"> <div class=\"ctns-quiz\" id=\"quiz_ctns_505\"></div> <pre style=\"display:none;\"><!-- div ctns-quiz --></pre> </div><pre style=\"display:none;\"><!-- div ctns-quiz-container --></pre><div class=\"ctns-button-group\"> <button class=\"ctns-button ctns-previous\" id=\"previous_ctns_505\">Previous Question</button> <button class=\"ctns-button ctns-next\" id=\"next_ctns_505\">Next Question</button> <button class=\"ctns-button ctns-submit\" id=\"submit_ctns_505\">Submit Quiz</button></div><pre style=\"display:none;\"><!-- ctns-button-group --></pre><div class=\"ctns-results ctns-hide\" id=\"results_ctns_505\"></div><pre style=\"display:none;\"><!-- div ctns-results id=\"results_ctns_505\" --></pre></div><pre style=\"display:none;\"><!-- body id=\"ctns_505\" --></pre>\n",
      "<script type='text/javascript' src='https://testcite.com/wp-content/plugins/pm-struct/includes/pm-struct.js?added-by=pm-struct;ver=1.0.15a' async='async'></script>\n",
      "<script type='text/javascript' src='https://testcite.com/wp-content/themes/Builder-Jackson/js/custom_jquery_additions.js?ver=5.4.2'></script>\n",
      "<script type='text/javascript' src='https://testcite.com/cache/1b95014b1c4e8354ac4f357e7aabd525.68801.js'></script>\n",
      "\n"
     ]
    }
   ],
   "source": [
    "from IPython.core.display import HTML\n",
    "import pandas as pd\n",
    "import numpy as np\n",
    "import matplotlib.pyplot as plt\n",
    "import seaborn as sns\n",
    "%matplotlib inline\n",
    "\n",
    "#from urllib.request import urlopen\n",
    "from bs4 import BeautifulSoup\n",
    "import requests\n",
    "\n",
    "url = \"https://testcite.com/showcase3/?target=linearQ15-9c\"\n",
    "page = requests.get(url)\n",
    "soup = BeautifulSoup(page.content, 'html.parser')\n",
    "final = str(soup) + \"\"\"\n",
    "<script type='text/javascript' src='https://testcite.com/wp-content/plugins/pm-struct/includes/pm-struct.js?added-by=pm-struct;ver=1.0.15a' async='async'></script>\n",
    "<script type='text/javascript' src='https://testcite.com/wp-content/themes/Builder-Jackson/js/custom_jquery_additions.js?ver=5.4.2'></script>\n",
    "<script type='text/javascript' src='https://testcite.com/cache/1b95014b1c4e8354ac4f357e7aabd525.68801.js'></script>\n",
    "\"\"\"\n",
    "\n",
    "print(final)\n",
    "#html = urlopen(url)\n",
    "\n",
    "#print(results.prettify())\n",
    "\n",
    "#print(html)\n",
    "#%%html\n",
    "#<script type='text/javascript' src='https://testcite.com/showcase/?target=linearQ15-9c'></script>"
   ]
  }
 ],
 "metadata": {
  "kernelspec": {
   "display_name": "Python 3",
   "language": "python",
   "name": "python3"
  },
  "language_info": {
   "codemirror_mode": {
    "name": "ipython",
    "version": 3
   },
   "file_extension": ".py",
   "mimetype": "text/x-python",
   "name": "python",
   "nbconvert_exporter": "python",
   "pygments_lexer": "ipython3",
   "version": "3.7.6"
  }
 },
 "nbformat": 4,
 "nbformat_minor": 4
}
