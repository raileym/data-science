{
 "cells": [
  {
   "cell_type": "markdown",
   "metadata": {},
   "source": [
    " ### References\n",
    " - See [1] https://www.math.purdue.edu/~arapura/preprints/set.pdf\n",
    " - See [2] Kao, Eric and Michael Genesereth. <ins>Introduction to Logic</ins>. Morgan & Claypool Publishers. 2012."
   ]
  },
  {
   "cell_type": "markdown",
   "metadata": {},
   "source": [
    "From [1],\n",
    "\n",
    " - A <mark>set</mark> is a collection of things called <mark>elements</mark>.\n",
    "\n",
    " - Order and repetitions in a set are irrelevant.\n",
    "\n",
    " - Use capital letters for sets. \n",
    "\n",
    " - Write $q \\in X$ if $q$ is an element.\n",
    "\n",
    " - Write $q \\notin X$ if the negation $\\neg (q \\in X)$."
   ]
  },
  {
   "cell_type": "markdown",
   "metadata": {},
   "source": [
    "----\n",
    "\n",
    "From [1],\n",
    "\n",
    " - A set $X$ is a subset of a set $Y$ ($X \\subseteq Y)$ if all \n",
    "elements of $X$ are also elements of $Y$. \n",
    "\n",
    " - A set $X$ is a subset of a set $Y$ ($X \\subseteq Y)$ if for all $x$, $x \\in X$ \n",
    "implies $x \\in Y$, \n",
    "\n",
    "$$X \\subseteq Y \\leftrightarrow \\forall x (x \\in X \\rightarrow x \\in Y),$$\n",
    "\n",
    " - A set $X$ equals a set $Y$ ($X = Y$) if and only if they contain the same elements.\n",
    "\n",
    " - A set $X$ equals a set $Y$ ($X = Y$) if and only if they contain the same elements. \n",
    "\n",
    "$$X = Y \\leftrightarrow \\forall x (x \\in X \\leftrightarrow x \\in Y)$$\n",
    "\n",
    " - The statement 'a set $X$ equals a set $Y$ ($X = Y$) if and only if they contain the same elements,\n",
    "regardless of how they are defined', is called the <mark>axiom of extensionallity</mark>."
   ]
  },
  {
   "cell_type": "markdown",
   "metadata": {},
   "source": [
    "----\n",
    "\n",
    "From [1],\n",
    "\n",
    "$$X = Y \\  \\textrm{if and only if} \\  X \\subseteq Y \\  \\textrm{and} \\  Y \\subseteq X$$\n",
    "\n",
    "$$\\begin{proof}\n",
    "A = B\n",
    "\\end{proof}$$\n",
    "\n",
    "Proof: \n",
    "\n",
    " - Suppose $X = Y.$\n",
    " - Then, $\\forall x (x \\in X \\leftrightarrow x \\in Y).$\n",
    " - This implies $\\forall x (x \\in X \\rightarrow x \\in Y)$ and $\\forall x (x \\in Y \\rightarrow x \\in X).$\n",
    " - We have $X \\subseteq Y$ and $Y \\subseteq X.$\n",
    "\n",
    "And from the other direction,\n",
    "\n",
    " - Suppose $X \\subseteq Y \\  \\textrm{and} \\  Y \\subseteq X.$\n",
    " - Then, $\\forall x (x \\in X \\rightarrow x \\in Y)$ and $\\forall x (x \\in Y \\rightarrow x \\in X).$\n",
    " - This implies $\\forall x (x \\in X \\leftrightarrow x \\in Y).$\n",
    " - We have $X = Y.$\n",
    " \n",
    "$\\square$"
   ]
  },
  {
   "cell_type": "markdown",
   "metadata": {},
   "source": [
    "----\n",
    "\n",
    "From [1],\n",
    "\n",
    "$$X \\not\\subseteq Y \\  \\textrm{if and only if there exists} \\  x \\in X \\  \\textrm{such that} \\  x \\notin Y.$$ "
   ]
  }
 ],
 "metadata": {
  "kernelspec": {
   "display_name": "Python 3",
   "language": "python",
   "name": "python3"
  },
  "language_info": {
   "codemirror_mode": {
    "name": "ipython",
    "version": 3
   },
   "file_extension": ".py",
   "mimetype": "text/x-python",
   "name": "python",
   "nbconvert_exporter": "python",
   "pygments_lexer": "ipython3",
   "version": "3.7.6"
  }
 },
 "nbformat": 4,
 "nbformat_minor": 4
}
